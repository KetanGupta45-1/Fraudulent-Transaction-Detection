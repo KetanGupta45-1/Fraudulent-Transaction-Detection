{
 "cells": [
  {
   "cell_type": "markdown",
   "id": "5acfd031",
   "metadata": {},
   "source": [
    "__IMPORTING THE LIBRARIES USED__"
   ]
  },
  {
   "cell_type": "code",
   "execution_count": 62,
   "id": "7f05b636",
   "metadata": {},
   "outputs": [],
   "source": [
    "import pandas as pd\n",
    "import numpy as np\n",
    "import matplotlib.pyplot as plt\n",
    "from lightgbm import LGBMClassifier\n",
    "from xgboost import XGBClassifier\n",
    "from catboost import CatBoostClassifier\n",
    "from sklearn.tree import DecisionTreeClassifier\n",
    "from sklearn.ensemble import RandomForestClassifier, ExtraTreesClassifier, GradientBoostingClassifier, HistGradientBoostingClassifier\n",
    "from sklearn.preprocessing import LabelEncoder\n",
    "import seaborn as sns\n",
    "import ppscore as pps\n",
    "from sklearn.model_selection import train_test_split\n",
    "from sklearn.preprocessing import StandardScaler\n",
    "from sklearn.metrics import confusion_matrix,ConfusionMatrixDisplay,classification_report,roc_curve,auc\n",
    "from imblearn.over_sampling import SMOTE\n",
    "from statsmodels.stats.outliers_influence import variance_inflation_factor\n",
    "from statsmodels.tools.tools import add_constant\n",
    "from sklearn.feature_selection import mutual_info_classif\n",
    "import shap\n",
    "from sklearn.ensemble import IsolationForest\n",
    "from sklearn.decomposition import PCA\n",
    "from scipy.stats import zscore\n",
    "import math\n",
    "from scipy.stats import norm\n",
    "from sklearn.model_selection import GridSearchCV\n",
    "from sklearn.metrics import make_scorer, f1_score\n",
    "from sklearn.ensemble import VotingClassifier, StackingClassifier\n"
   ]
  },
  {
   "cell_type": "markdown",
   "id": "6e350ee1",
   "metadata": {},
   "source": [
    "__ALL FUNCTION USED__"
   ]
  },
  {
   "cell_type": "code",
   "execution_count": 2,
   "id": "d9e311f9",
   "metadata": {},
   "outputs": [],
   "source": [
    "def labelencoder_function(df):\n",
    "    encoders = {}\n",
    "    col = df.select_dtypes(include='object').columns\n",
    "    for i in col:\n",
    "        le = LabelEncoder()\n",
    "        df[i] = le.fit_transform(df[i])\n",
    "        encoders[i] = le  # Save encoder for that column\n",
    "    return df, encoders"
   ]
  },
  {
   "cell_type": "code",
   "execution_count": 3,
   "id": "0f9ca964",
   "metadata": {},
   "outputs": [],
   "source": [
    "def correlation_table_display(df, feature_list, target_variable, df_name='Dataset'):\n",
    "    print(f\"{df_name} - Feature List and Target\")\n",
    "    print(feature_list, target_variable, sep='\\n\\n')\n",
    "\n",
    "    cor = df.corr()\n",
    "    cor_table = cor[target_variable].sort_values(ascending=False)\n",
    "\n",
    "    print(f\"\\n{df_name} - Correlation Table:\")\n",
    "    print(cor_table)\n",
    "\n",
    "    # Plot\n",
    "    plt.figure(figsize=(10, 6))\n",
    "    sns.barplot(x=cor_table.index, y=cor_table.values, hue=cor_table.index, palette=\"coolwarm\", legend=False)\n",
    "    plt.xticks(rotation=90)\n",
    "    plt.ylabel(\"Correlation Coefficient\")\n",
    "    plt.title(f\"Correlation with Target - {df_name}\")\n",
    "    plt.tight_layout()\n",
    "    plt.show()\n",
    "    print(\"-----------***--------------***-------------***\")\n"
   ]
  },
  {
   "cell_type": "code",
   "execution_count": 4,
   "id": "2b9b866a",
   "metadata": {},
   "outputs": [],
   "source": [
    "def print_pps_score(df, feature_list, target_variable, df_name='Dataset'):\n",
    "    print(f\"{df_name} - Feature List and Target\")\n",
    "    print(feature_list, target_variable, sep='\\n\\n')\n",
    "\n",
    "    pps_scores = {col: pps.score(df, col, target_variable)[\"ppscore\"] for col in feature_list}\n",
    "    pps_df = pd.DataFrame(pps_scores.items(), columns=['Feature', 'PPS'])\n",
    "\n",
    "    pps_df = pps_df.sort_values(by=\"PPS\", ascending=False)\n",
    "    print(f\"\\n{df_name} - PPS Table:\")\n",
    "    print(pps_df)\n",
    "    print(\"-----------***--------------***-------------***\")\n"
   ]
  },
  {
   "cell_type": "code",
   "execution_count": 5,
   "id": "8b3f98ee",
   "metadata": {},
   "outputs": [],
   "source": [
    "def vif_display(df, feature_list, target_variable, df_name=\"DataFrame\"):\n",
    "    print(f\"{df_name} - Feature List and Target\")\n",
    "    print(feature_list, target_variable, sep='\\n')\n",
    "    print('\\n')\n",
    "\n",
    "    dfx = df[feature_list]\n",
    "    x_const = add_constant(dfx)\n",
    "\n",
    "    vif_data = pd.DataFrame()\n",
    "    vif_data[\"Feature\"] = dfx.columns\n",
    "    vif_data[\"VIF\"] = [variance_inflation_factor(x_const.values, i + 1) for i in range(len(dfx.columns))]\n",
    "    vif_data = vif_data.sort_values(by=\"VIF\", ascending=False)\n",
    "\n",
    "    def color_map(vif):\n",
    "        if vif <= 10:\n",
    "            return 'green'\n",
    "        elif vif <= 100:\n",
    "            return 'orange'\n",
    "        else:\n",
    "            return 'red'\n",
    "\n",
    "    colors = vif_data[\"VIF\"].apply(color_map)\n",
    "\n",
    "    print(vif_data)\n",
    "\n",
    "    plt.figure(figsize=(10, 6))\n",
    "    ax = sns.barplot(data=vif_data, x='Feature', y='VIF', color='lightblue')  # base color\n",
    "\n",
    "    for bar, color in zip(ax.patches, colors):\n",
    "        bar.set_color(color)\n",
    "\n",
    "    plt.xticks(rotation=90)\n",
    "    plt.ylabel(\"VIF Value\")\n",
    "    plt.title(f\"Variance Inflation Factor (VIF) - {df_name}\")\n",
    "    plt.tight_layout()\n",
    "    plt.show()\n",
    "    print(\"-----------***--------------***-------------***\")"
   ]
  },
  {
   "cell_type": "code",
   "execution_count": 6,
   "id": "e8e6ec6e",
   "metadata": {},
   "outputs": [],
   "source": [
    "def mi_score_display(df, feature_list, target_variable, df_name=\"DataFrame\"):\n",
    "    print(f\"{df_name} - Feature List and Target\")\n",
    "    print(feature_list, target_variable, sep='\\n')\n",
    "    print('\\n')\n",
    "\n",
    "    mi_x = df[feature_list]\n",
    "    mi_y = df[target_variable]\n",
    "\n",
    "    # Calculate Mutual Information Scores\n",
    "    mi_scores = mutual_info_classif(mi_x, mi_y, discrete_features='auto', random_state=0)\n",
    "    mi_df = pd.DataFrame({'Feature': mi_x.columns, 'MI Score': mi_scores})\n",
    "    mi_df = mi_df.sort_values(by='MI Score', ascending=False)\n",
    "\n",
    "    # Define color threshold\n",
    "    def color_map(score):\n",
    "        if score > 0.2:\n",
    "            return 'purple'\n",
    "        elif score > 0.1:\n",
    "            return 'orange'\n",
    "        else:\n",
    "            return 'gray'\n",
    "\n",
    "    colors = mi_df['MI Score'].apply(color_map)\n",
    "\n",
    "    # Print the table\n",
    "    print(mi_df)\n",
    "\n",
    "    # Plot\n",
    "    plt.figure(figsize=(10, 6))\n",
    "    ax = sns.barplot(data=mi_df, x='Feature', y='MI Score', color='skyblue')  # base color\n",
    "\n",
    "    for bar, color in zip(ax.patches, colors):\n",
    "        bar.set_color(color)\n",
    "\n",
    "    plt.xticks(rotation=90)\n",
    "    plt.title(f\"Mutual Information Scores - {df_name}\")\n",
    "    plt.tight_layout()\n",
    "    plt.show()\n",
    "    print(\"-----------***--------------***-------------***\")"
   ]
  },
  {
   "cell_type": "code",
   "execution_count": 7,
   "id": "6d00d96b",
   "metadata": {},
   "outputs": [],
   "source": [
    "def outlier_removal(df, target='isFraud'):\n",
    "    dfnew = df.copy()\n",
    "    original_rows = len(df)\n",
    "\n",
    "    for col in df.select_dtypes(include='number').columns:\n",
    "        if col == target:\n",
    "            continue\n",
    "\n",
    "        Q1 = dfnew[col].quantile(0.25)\n",
    "        Q3 = dfnew[col].quantile(0.75)\n",
    "        IQR = Q3 - Q1\n",
    "        lower = Q1 - 1.5 * IQR\n",
    "        upper = Q3 + 1.5 * IQR\n",
    "        mask = ~((dfnew[target] == 0) & ((dfnew[col] < lower) | (dfnew[col] > upper)))\n",
    "        dfnew = dfnew[mask]\n",
    "\n",
    "    new_rows = len(dfnew)\n",
    "    removed_rows = original_rows - new_rows\n",
    "\n",
    "    print(f\"Original rows: {original_rows}\")\n",
    "    print(f\"Rows after outlier removal: {new_rows}\")\n",
    "    print(f\"Rows removed: {removed_rows} ({removed_rows / original_rows:.2%} of the data)\")\n",
    "\n",
    "    return dfnew\n"
   ]
  },
  {
   "cell_type": "code",
   "execution_count": 8,
   "id": "b343b0c5",
   "metadata": {},
   "outputs": [],
   "source": [
    "def plot_normal_distribution_curves(df, feature_list):\n",
    "    num_features = len(feature_list)\n",
    "    ncols = 3  # Number of plots per row\n",
    "    nrows = (num_features + ncols - 1) // ncols\n",
    "\n",
    "    plt.figure(figsize=(5 * ncols, 4 * nrows))\n",
    "\n",
    "    for idx, col in enumerate(feature_list):\n",
    "        plt.subplot(nrows, ncols, idx + 1)\n",
    "        \n",
    "        # Drop NaNs if any\n",
    "        data = df[col].dropna()\n",
    "        \n",
    "        # Plot histogram\n",
    "        sns.histplot(data, bins=30, kde=False, stat=\"density\", color=\"skyblue\", edgecolor='black')\n",
    "        \n",
    "        # Fit a normal distribution\n",
    "        mu, std = norm.fit(data)\n",
    "        xmin, xmax = plt.xlim()\n",
    "        x = np.linspace(xmin, xmax, 100)\n",
    "        p = norm.pdf(x, mu, std)\n",
    "        \n",
    "        # Plot the normal curve\n",
    "        plt.plot(x, p, 'r', linewidth=2)\n",
    "        \n",
    "        plt.title(f\"{col}\\nMean={mu:.2f}, Std={std:.2f}\")\n",
    "        plt.xlabel(col)\n",
    "        plt.ylabel('Density')\n",
    "\n",
    "    plt.tight_layout()\n",
    "    plt.show()"
   ]
  },
  {
   "cell_type": "code",
   "execution_count": 9,
   "id": "4a0d6fc3",
   "metadata": {},
   "outputs": [],
   "source": [
    "def standard_scaler(df, feature_list):\n",
    "    scaler = StandardScaler()\n",
    "    scaled_data = scaler.fit_transform(df[feature_list])\n",
    "    scaled_df = pd.DataFrame(scaled_data, columns=feature_list)\n",
    "    df[feature_list] = scaled_df\n",
    "\n",
    "    return df"
   ]
  },
  {
   "cell_type": "code",
   "execution_count": null,
   "id": "38aed93d",
   "metadata": {},
   "outputs": [],
   "source": [
    "def evaluate_model(name, model, x_test, y_test, thresholds=[0.45, 0.40, 0.35, 0.30]):\n",
    "    print(f\"\\n📊 Results for: {name}\")\n",
    "    \n",
    "    try:\n",
    "        probs = model.predict_proba(x_test)[:, 1]\n",
    "    except AttributeError:\n",
    "        print(\"⚠️ This model does not support predict_proba.\")\n",
    "        return\n",
    "\n",
    "    for thresh in thresholds:\n",
    "        print(f\"\\n🔍 Threshold: {thresh}\")\n",
    "        y_pred = (probs >= thresh).astype(int)\n",
    "\n",
    "        cm = confusion_matrix(y_test, y_pred)\n",
    "        disp = ConfusionMatrixDisplay(confusion_matrix=cm)\n",
    "        disp.plot(cmap='Blues')\n",
    "        plt.title(f\"{name} - Threshold: {thresh}\")\n",
    "        plt.show()\n",
    "\n",
    "        print(classification_report(y_test, y_pred))\n"
   ]
  },
  {
   "cell_type": "markdown",
   "id": "ac0fcf52",
   "metadata": {},
   "source": [
    "__IMPORTING THE CSV FILE__"
   ]
  },
  {
   "cell_type": "code",
   "execution_count": 11,
   "id": "82127946",
   "metadata": {},
   "outputs": [],
   "source": [
    "df = pd.read_csv(\"Fraud.csv\")"
   ]
  },
  {
   "cell_type": "markdown",
   "id": "ab96396d",
   "metadata": {},
   "source": [
    "__BASIC EDA__"
   ]
  },
  {
   "cell_type": "code",
   "execution_count": 12,
   "id": "d94dd3e3",
   "metadata": {},
   "outputs": [
    {
     "name": "stdout",
     "output_type": "stream",
     "text": [
      "<class 'pandas.core.frame.DataFrame'>\n",
      "RangeIndex: 6362620 entries, 0 to 6362619\n",
      "Data columns (total 11 columns):\n",
      " #   Column          Dtype  \n",
      "---  ------          -----  \n",
      " 0   step            int64  \n",
      " 1   type            object \n",
      " 2   amount          float64\n",
      " 3   nameOrig        object \n",
      " 4   oldbalanceOrg   float64\n",
      " 5   newbalanceOrig  float64\n",
      " 6   nameDest        object \n",
      " 7   oldbalanceDest  float64\n",
      " 8   newbalanceDest  float64\n",
      " 9   isFraud         int64  \n",
      " 10  isFlaggedFraud  int64  \n",
      "dtypes: float64(5), int64(3), object(3)\n",
      "memory usage: 534.0+ MB\n"
     ]
    }
   ],
   "source": [
    "df.info()"
   ]
  },
  {
   "cell_type": "code",
   "execution_count": 13,
   "id": "ac732bff",
   "metadata": {},
   "outputs": [
    {
     "data": {
      "application/vnd.microsoft.datawrangler.viewer.v0+json": {
       "columns": [
        {
         "name": "index",
         "rawType": "object",
         "type": "string"
        },
        {
         "name": "step",
         "rawType": "float64",
         "type": "float"
        },
        {
         "name": "amount",
         "rawType": "float64",
         "type": "float"
        },
        {
         "name": "oldbalanceOrg",
         "rawType": "float64",
         "type": "float"
        },
        {
         "name": "newbalanceOrig",
         "rawType": "float64",
         "type": "float"
        },
        {
         "name": "oldbalanceDest",
         "rawType": "float64",
         "type": "float"
        },
        {
         "name": "newbalanceDest",
         "rawType": "float64",
         "type": "float"
        },
        {
         "name": "isFraud",
         "rawType": "float64",
         "type": "float"
        },
        {
         "name": "isFlaggedFraud",
         "rawType": "float64",
         "type": "float"
        }
       ],
       "conversionMethod": "pd.DataFrame",
       "ref": "1f03417e-44ef-4518-a082-3ad5cb63ca30",
       "rows": [
        [
         "count",
         "6362620.0",
         "6362620.0",
         "6362620.0",
         "6362620.0",
         "6362620.0",
         "6362620.0",
         "6362620.0",
         "6362620.0"
        ],
        [
         "mean",
         "243.39724563151657",
         "179861.90354913071",
         "833883.1040744866",
         "855113.6685785869",
         "1100701.6665196486",
         "1224996.3982019299",
         "0.001290820448180152",
         "2.51468734577894e-06"
        ],
        [
         "std",
         "142.33197104912992",
         "603858.2314629358",
         "2888242.6730375555",
         "2924048.5029542665",
         "3399180.1129944767",
         "3674128.9421196356",
         "0.03590479680160413",
         "0.001585774705736547"
        ],
        [
         "min",
         "1.0",
         "0.0",
         "0.0",
         "0.0",
         "0.0",
         "0.0",
         "0.0",
         "0.0"
        ],
        [
         "25%",
         "156.0",
         "13389.57",
         "0.0",
         "0.0",
         "0.0",
         "0.0",
         "0.0",
         "0.0"
        ],
        [
         "50%",
         "239.0",
         "74871.94",
         "14208.0",
         "0.0",
         "132705.66499999998",
         "214661.44",
         "0.0",
         "0.0"
        ],
        [
         "75%",
         "335.0",
         "208721.4775",
         "107315.175",
         "144258.41",
         "943036.7075",
         "1111909.25",
         "0.0",
         "0.0"
        ],
        [
         "max",
         "743.0",
         "92445516.64",
         "59585040.37",
         "49585040.37",
         "356015889.35",
         "356179278.92",
         "1.0",
         "1.0"
        ]
       ],
       "shape": {
        "columns": 8,
        "rows": 8
       }
      },
      "text/html": [
       "<div>\n",
       "<style scoped>\n",
       "    .dataframe tbody tr th:only-of-type {\n",
       "        vertical-align: middle;\n",
       "    }\n",
       "\n",
       "    .dataframe tbody tr th {\n",
       "        vertical-align: top;\n",
       "    }\n",
       "\n",
       "    .dataframe thead th {\n",
       "        text-align: right;\n",
       "    }\n",
       "</style>\n",
       "<table border=\"1\" class=\"dataframe\">\n",
       "  <thead>\n",
       "    <tr style=\"text-align: right;\">\n",
       "      <th></th>\n",
       "      <th>step</th>\n",
       "      <th>amount</th>\n",
       "      <th>oldbalanceOrg</th>\n",
       "      <th>newbalanceOrig</th>\n",
       "      <th>oldbalanceDest</th>\n",
       "      <th>newbalanceDest</th>\n",
       "      <th>isFraud</th>\n",
       "      <th>isFlaggedFraud</th>\n",
       "    </tr>\n",
       "  </thead>\n",
       "  <tbody>\n",
       "    <tr>\n",
       "      <th>count</th>\n",
       "      <td>6.362620e+06</td>\n",
       "      <td>6.362620e+06</td>\n",
       "      <td>6.362620e+06</td>\n",
       "      <td>6.362620e+06</td>\n",
       "      <td>6.362620e+06</td>\n",
       "      <td>6.362620e+06</td>\n",
       "      <td>6.362620e+06</td>\n",
       "      <td>6.362620e+06</td>\n",
       "    </tr>\n",
       "    <tr>\n",
       "      <th>mean</th>\n",
       "      <td>2.433972e+02</td>\n",
       "      <td>1.798619e+05</td>\n",
       "      <td>8.338831e+05</td>\n",
       "      <td>8.551137e+05</td>\n",
       "      <td>1.100702e+06</td>\n",
       "      <td>1.224996e+06</td>\n",
       "      <td>1.290820e-03</td>\n",
       "      <td>2.514687e-06</td>\n",
       "    </tr>\n",
       "    <tr>\n",
       "      <th>std</th>\n",
       "      <td>1.423320e+02</td>\n",
       "      <td>6.038582e+05</td>\n",
       "      <td>2.888243e+06</td>\n",
       "      <td>2.924049e+06</td>\n",
       "      <td>3.399180e+06</td>\n",
       "      <td>3.674129e+06</td>\n",
       "      <td>3.590480e-02</td>\n",
       "      <td>1.585775e-03</td>\n",
       "    </tr>\n",
       "    <tr>\n",
       "      <th>min</th>\n",
       "      <td>1.000000e+00</td>\n",
       "      <td>0.000000e+00</td>\n",
       "      <td>0.000000e+00</td>\n",
       "      <td>0.000000e+00</td>\n",
       "      <td>0.000000e+00</td>\n",
       "      <td>0.000000e+00</td>\n",
       "      <td>0.000000e+00</td>\n",
       "      <td>0.000000e+00</td>\n",
       "    </tr>\n",
       "    <tr>\n",
       "      <th>25%</th>\n",
       "      <td>1.560000e+02</td>\n",
       "      <td>1.338957e+04</td>\n",
       "      <td>0.000000e+00</td>\n",
       "      <td>0.000000e+00</td>\n",
       "      <td>0.000000e+00</td>\n",
       "      <td>0.000000e+00</td>\n",
       "      <td>0.000000e+00</td>\n",
       "      <td>0.000000e+00</td>\n",
       "    </tr>\n",
       "    <tr>\n",
       "      <th>50%</th>\n",
       "      <td>2.390000e+02</td>\n",
       "      <td>7.487194e+04</td>\n",
       "      <td>1.420800e+04</td>\n",
       "      <td>0.000000e+00</td>\n",
       "      <td>1.327057e+05</td>\n",
       "      <td>2.146614e+05</td>\n",
       "      <td>0.000000e+00</td>\n",
       "      <td>0.000000e+00</td>\n",
       "    </tr>\n",
       "    <tr>\n",
       "      <th>75%</th>\n",
       "      <td>3.350000e+02</td>\n",
       "      <td>2.087215e+05</td>\n",
       "      <td>1.073152e+05</td>\n",
       "      <td>1.442584e+05</td>\n",
       "      <td>9.430367e+05</td>\n",
       "      <td>1.111909e+06</td>\n",
       "      <td>0.000000e+00</td>\n",
       "      <td>0.000000e+00</td>\n",
       "    </tr>\n",
       "    <tr>\n",
       "      <th>max</th>\n",
       "      <td>7.430000e+02</td>\n",
       "      <td>9.244552e+07</td>\n",
       "      <td>5.958504e+07</td>\n",
       "      <td>4.958504e+07</td>\n",
       "      <td>3.560159e+08</td>\n",
       "      <td>3.561793e+08</td>\n",
       "      <td>1.000000e+00</td>\n",
       "      <td>1.000000e+00</td>\n",
       "    </tr>\n",
       "  </tbody>\n",
       "</table>\n",
       "</div>"
      ],
      "text/plain": [
       "               step        amount  oldbalanceOrg  newbalanceOrig  \\\n",
       "count  6.362620e+06  6.362620e+06   6.362620e+06    6.362620e+06   \n",
       "mean   2.433972e+02  1.798619e+05   8.338831e+05    8.551137e+05   \n",
       "std    1.423320e+02  6.038582e+05   2.888243e+06    2.924049e+06   \n",
       "min    1.000000e+00  0.000000e+00   0.000000e+00    0.000000e+00   \n",
       "25%    1.560000e+02  1.338957e+04   0.000000e+00    0.000000e+00   \n",
       "50%    2.390000e+02  7.487194e+04   1.420800e+04    0.000000e+00   \n",
       "75%    3.350000e+02  2.087215e+05   1.073152e+05    1.442584e+05   \n",
       "max    7.430000e+02  9.244552e+07   5.958504e+07    4.958504e+07   \n",
       "\n",
       "       oldbalanceDest  newbalanceDest       isFraud  isFlaggedFraud  \n",
       "count    6.362620e+06    6.362620e+06  6.362620e+06    6.362620e+06  \n",
       "mean     1.100702e+06    1.224996e+06  1.290820e-03    2.514687e-06  \n",
       "std      3.399180e+06    3.674129e+06  3.590480e-02    1.585775e-03  \n",
       "min      0.000000e+00    0.000000e+00  0.000000e+00    0.000000e+00  \n",
       "25%      0.000000e+00    0.000000e+00  0.000000e+00    0.000000e+00  \n",
       "50%      1.327057e+05    2.146614e+05  0.000000e+00    0.000000e+00  \n",
       "75%      9.430367e+05    1.111909e+06  0.000000e+00    0.000000e+00  \n",
       "max      3.560159e+08    3.561793e+08  1.000000e+00    1.000000e+00  "
      ]
     },
     "execution_count": 13,
     "metadata": {},
     "output_type": "execute_result"
    }
   ],
   "source": [
    "df.describe()"
   ]
  },
  {
   "cell_type": "code",
   "execution_count": 14,
   "id": "94a75e97",
   "metadata": {},
   "outputs": [
    {
     "data": {
      "text/plain": [
       "(6362620, 11)"
      ]
     },
     "execution_count": 14,
     "metadata": {},
     "output_type": "execute_result"
    }
   ],
   "source": [
    "df.shape"
   ]
  },
  {
   "cell_type": "markdown",
   "id": "39298d4b",
   "metadata": {},
   "source": [
    "***LABEL ENCODING***"
   ]
  },
  {
   "cell_type": "code",
   "execution_count": 15,
   "id": "3115a822",
   "metadata": {},
   "outputs": [
    {
     "data": {
      "application/vnd.microsoft.datawrangler.viewer.v0+json": {
       "columns": [
        {
         "name": "index",
         "rawType": "int64",
         "type": "integer"
        },
        {
         "name": "step",
         "rawType": "int64",
         "type": "integer"
        },
        {
         "name": "type",
         "rawType": "int32",
         "type": "integer"
        },
        {
         "name": "amount",
         "rawType": "float64",
         "type": "float"
        },
        {
         "name": "nameOrig",
         "rawType": "int32",
         "type": "integer"
        },
        {
         "name": "oldbalanceOrg",
         "rawType": "float64",
         "type": "float"
        },
        {
         "name": "newbalanceOrig",
         "rawType": "float64",
         "type": "float"
        },
        {
         "name": "nameDest",
         "rawType": "int32",
         "type": "integer"
        },
        {
         "name": "oldbalanceDest",
         "rawType": "float64",
         "type": "float"
        },
        {
         "name": "newbalanceDest",
         "rawType": "float64",
         "type": "float"
        },
        {
         "name": "isFraud",
         "rawType": "int64",
         "type": "integer"
        },
        {
         "name": "isFlaggedFraud",
         "rawType": "int64",
         "type": "integer"
        }
       ],
       "conversionMethod": "pd.DataFrame",
       "ref": "faf86514-4b3a-4419-a578-3ed995cbdbce",
       "rows": [
        [
         "0",
         "1",
         "3",
         "9839.64",
         "757869",
         "170136.0",
         "160296.36",
         "1662094",
         "0.0",
         "0.0",
         "0",
         "0"
        ],
        [
         "1",
         "1",
         "3",
         "1864.28",
         "2188998",
         "21249.0",
         "19384.72",
         "1733924",
         "0.0",
         "0.0",
         "0",
         "0"
        ],
        [
         "2",
         "1",
         "4",
         "181.0",
         "1002156",
         "181.0",
         "0.0",
         "439685",
         "0.0",
         "0.0",
         "1",
         "0"
        ],
        [
         "3",
         "1",
         "1",
         "181.0",
         "5828262",
         "181.0",
         "0.0",
         "391696",
         "21182.0",
         "0.0",
         "1",
         "0"
        ],
        [
         "4",
         "1",
         "3",
         "11668.14",
         "3445981",
         "41554.0",
         "29885.86",
         "828919",
         "0.0",
         "0.0",
         "0",
         "0"
        ]
       ],
       "shape": {
        "columns": 11,
        "rows": 5
       }
      },
      "text/html": [
       "<div>\n",
       "<style scoped>\n",
       "    .dataframe tbody tr th:only-of-type {\n",
       "        vertical-align: middle;\n",
       "    }\n",
       "\n",
       "    .dataframe tbody tr th {\n",
       "        vertical-align: top;\n",
       "    }\n",
       "\n",
       "    .dataframe thead th {\n",
       "        text-align: right;\n",
       "    }\n",
       "</style>\n",
       "<table border=\"1\" class=\"dataframe\">\n",
       "  <thead>\n",
       "    <tr style=\"text-align: right;\">\n",
       "      <th></th>\n",
       "      <th>step</th>\n",
       "      <th>type</th>\n",
       "      <th>amount</th>\n",
       "      <th>nameOrig</th>\n",
       "      <th>oldbalanceOrg</th>\n",
       "      <th>newbalanceOrig</th>\n",
       "      <th>nameDest</th>\n",
       "      <th>oldbalanceDest</th>\n",
       "      <th>newbalanceDest</th>\n",
       "      <th>isFraud</th>\n",
       "      <th>isFlaggedFraud</th>\n",
       "    </tr>\n",
       "  </thead>\n",
       "  <tbody>\n",
       "    <tr>\n",
       "      <th>0</th>\n",
       "      <td>1</td>\n",
       "      <td>3</td>\n",
       "      <td>9839.64</td>\n",
       "      <td>757869</td>\n",
       "      <td>170136.0</td>\n",
       "      <td>160296.36</td>\n",
       "      <td>1662094</td>\n",
       "      <td>0.0</td>\n",
       "      <td>0.0</td>\n",
       "      <td>0</td>\n",
       "      <td>0</td>\n",
       "    </tr>\n",
       "    <tr>\n",
       "      <th>1</th>\n",
       "      <td>1</td>\n",
       "      <td>3</td>\n",
       "      <td>1864.28</td>\n",
       "      <td>2188998</td>\n",
       "      <td>21249.0</td>\n",
       "      <td>19384.72</td>\n",
       "      <td>1733924</td>\n",
       "      <td>0.0</td>\n",
       "      <td>0.0</td>\n",
       "      <td>0</td>\n",
       "      <td>0</td>\n",
       "    </tr>\n",
       "    <tr>\n",
       "      <th>2</th>\n",
       "      <td>1</td>\n",
       "      <td>4</td>\n",
       "      <td>181.00</td>\n",
       "      <td>1002156</td>\n",
       "      <td>181.0</td>\n",
       "      <td>0.00</td>\n",
       "      <td>439685</td>\n",
       "      <td>0.0</td>\n",
       "      <td>0.0</td>\n",
       "      <td>1</td>\n",
       "      <td>0</td>\n",
       "    </tr>\n",
       "    <tr>\n",
       "      <th>3</th>\n",
       "      <td>1</td>\n",
       "      <td>1</td>\n",
       "      <td>181.00</td>\n",
       "      <td>5828262</td>\n",
       "      <td>181.0</td>\n",
       "      <td>0.00</td>\n",
       "      <td>391696</td>\n",
       "      <td>21182.0</td>\n",
       "      <td>0.0</td>\n",
       "      <td>1</td>\n",
       "      <td>0</td>\n",
       "    </tr>\n",
       "    <tr>\n",
       "      <th>4</th>\n",
       "      <td>1</td>\n",
       "      <td>3</td>\n",
       "      <td>11668.14</td>\n",
       "      <td>3445981</td>\n",
       "      <td>41554.0</td>\n",
       "      <td>29885.86</td>\n",
       "      <td>828919</td>\n",
       "      <td>0.0</td>\n",
       "      <td>0.0</td>\n",
       "      <td>0</td>\n",
       "      <td>0</td>\n",
       "    </tr>\n",
       "  </tbody>\n",
       "</table>\n",
       "</div>"
      ],
      "text/plain": [
       "   step  type    amount  nameOrig  oldbalanceOrg  newbalanceOrig  nameDest  \\\n",
       "0     1     3   9839.64    757869       170136.0       160296.36   1662094   \n",
       "1     1     3   1864.28   2188998        21249.0        19384.72   1733924   \n",
       "2     1     4    181.00   1002156          181.0            0.00    439685   \n",
       "3     1     1    181.00   5828262          181.0            0.00    391696   \n",
       "4     1     3  11668.14   3445981        41554.0        29885.86    828919   \n",
       "\n",
       "   oldbalanceDest  newbalanceDest  isFraud  isFlaggedFraud  \n",
       "0             0.0             0.0        0               0  \n",
       "1             0.0             0.0        0               0  \n",
       "2             0.0             0.0        1               0  \n",
       "3         21182.0             0.0        1               0  \n",
       "4             0.0             0.0        0               0  "
      ]
     },
     "execution_count": 15,
     "metadata": {},
     "output_type": "execute_result"
    }
   ],
   "source": [
    "df, encoders = labelencoder_function(df)\n",
    "df.head()"
   ]
  },
  {
   "cell_type": "code",
   "execution_count": 16,
   "id": "568af63c",
   "metadata": {},
   "outputs": [
    {
     "name": "stdout",
     "output_type": "stream",
     "text": [
      "['step', 'type', 'amount', 'nameOrig', 'oldbalanceOrg', 'newbalanceOrig', 'nameDest', 'oldbalanceDest', 'newbalanceDest', 'isFlaggedFraud']\n"
     ]
    }
   ],
   "source": [
    "feature = [i for i in df.columns if i != 'isFraud']\n",
    "print(feature)\n",
    "target = 'isFraud'"
   ]
  },
  {
   "cell_type": "markdown",
   "id": "3389b774",
   "metadata": {},
   "source": [
    "***Scaling The Features***"
   ]
  },
  {
   "cell_type": "code",
   "execution_count": 17,
   "id": "611f5550",
   "metadata": {},
   "outputs": [],
   "source": [
    "df_scaled = standard_scaler(df, feature)"
   ]
  },
  {
   "cell_type": "markdown",
   "id": "49858620",
   "metadata": {},
   "source": [
    "***Outlier Removal***"
   ]
  },
  {
   "cell_type": "code",
   "execution_count": 18,
   "id": "fbac4006",
   "metadata": {},
   "outputs": [
    {
     "name": "stdout",
     "output_type": "stream",
     "text": [
      "Original rows: 6362620\n",
      "Rows after outlier removal: 3206289\n",
      "Rows removed: 3156331 (49.61% of the data)\n"
     ]
    }
   ],
   "source": [
    "df_outlier_removed = outlier_removal(df)"
   ]
  },
  {
   "cell_type": "code",
   "execution_count": 19,
   "id": "73a363df",
   "metadata": {},
   "outputs": [
    {
     "name": "stdout",
     "output_type": "stream",
     "text": [
      "Original rows: 6362620\n",
      "Rows after outlier removal: 3206289\n",
      "Rows removed: 3156331 (49.61% of the data)\n"
     ]
    }
   ],
   "source": [
    "df_scaled_outlier_removed = outlier_removal(df_scaled)"
   ]
  },
  {
   "cell_type": "markdown",
   "id": "182d2449",
   "metadata": {},
   "source": [
    "***Dictionary of all DataFrames***"
   ]
  },
  {
   "cell_type": "code",
   "execution_count": 20,
   "id": "f4ad5126",
   "metadata": {},
   "outputs": [],
   "source": [
    "dataframe_dict = {\n",
    "    'Normal df' : df,\n",
    "    'Scaled df' : df_scaled,\n",
    "    'Outlier_removed_Normal_df' : df_outlier_removed,\n",
    "    'Outlier_removed_Scaled_df' : df_scaled_outlier_removed\n",
    "}"
   ]
  },
  {
   "cell_type": "markdown",
   "id": "71faa91c",
   "metadata": {},
   "source": [
    "__ADVANCE EDA__"
   ]
  },
  {
   "cell_type": "markdown",
   "id": "e6dab74a",
   "metadata": {},
   "source": [
    "***output in the text files***"
   ]
  },
  {
   "cell_type": "code",
   "execution_count": null,
   "id": "2ede7173",
   "metadata": {},
   "outputs": [],
   "source": [
    "for name, df_type in dataframe_dict.items():\n",
    "     correlation_table_display(df_type, feature, target, df_name= name)\n",
    "     print_pps_score(df_type, feature, target, df_name= name)\n",
    "     vif_display(df_type, feature, target, df_name= name)\n",
    "     mi_score_display(df_type, feature, target, df_name= name)"
   ]
  },
  {
   "cell_type": "markdown",
   "id": "6e8f2a3c",
   "metadata": {},
   "source": [
    "***Dataframes Without Outlier had much better characteristics with respect to Target***"
   ]
  },
  {
   "cell_type": "code",
   "execution_count": 22,
   "id": "de6b2ecb",
   "metadata": {},
   "outputs": [],
   "source": [
    "dataframe_to_be_used = {\n",
    "    'Outlier_removed_Normal_df' : df_outlier_removed,\n",
    "    'Outlier_removed_Scaled_df' : df_scaled_outlier_removed\n",
    "}"
   ]
  },
  {
   "cell_type": "markdown",
   "id": "c0da31b9",
   "metadata": {},
   "source": [
    "__GROUP BASED ANALYSIS__"
   ]
  },
  {
   "cell_type": "markdown",
   "id": "49392a34",
   "metadata": {},
   "source": [
    "***COLUMN = TYPE***"
   ]
  },
  {
   "cell_type": "code",
   "execution_count": 23,
   "id": "659b1084",
   "metadata": {},
   "outputs": [
    {
     "name": "stdout",
     "output_type": "stream",
     "text": [
      "       type  isFraud\n",
      "0 -0.528954     4116\n",
      "1  1.693076     4097\n"
     ]
    },
    {
     "data": {
      "image/png": "[encoded data removed]",
      "text/plain": [
       "<Figure size 800x500 with 1 Axes>"
      ]
     },
     "metadata": {},
     "output_type": "display_data"
    }
   ],
   "source": [
    "fraud_count_by_type = df_scaled_outlier_removed[df_scaled_outlier_removed['isFraud'] == 1].groupby('type')['isFraud'].count().reset_index()\n",
    "fraud_count_by_type = fraud_count_by_type.sort_values(by='isFraud', ascending=False)\n",
    "\n",
    "print(fraud_count_by_type)\n",
    "\n",
    "# Plot\n",
    "plt.figure(figsize=(8, 5))\n",
    "sns.barplot(data=fraud_count_by_type, x='type', y='isFraud', hue='type', palette='Reds_r', legend=False)\n",
    "plt.title(f\"Number of Fraud Cases by Transaction Type in df_scaled_outlier_removed\")\n",
    "plt.xlabel(\"Transaction Type\")\n",
    "plt.ylabel(\"Fraud Count\")\n",
    "plt.xticks(rotation=45)\n",
    "plt.tight_layout()\n",
    "plt.show()"
   ]
  },
  {
   "cell_type": "markdown",
   "id": "c57c7830",
   "metadata": {},
   "source": [
    "***COLUMN = STEP***"
   ]
  },
  {
   "cell_type": "code",
   "execution_count": 24,
   "id": "c12eb5ad",
   "metadata": {},
   "outputs": [
    {
     "data": {
      "application/vnd.microsoft.datawrangler.viewer.v0+json": {
       "columns": [
        {
         "name": "index",
         "rawType": "int64",
         "type": "integer"
        },
        {
         "name": "step",
         "rawType": "float64",
         "type": "float"
        },
        {
         "name": "count",
         "rawType": "int64",
         "type": "integer"
        }
       ],
       "conversionMethod": "pd.DataFrame",
       "ref": "e3887ca3-c59e-4055-a6be-27c3114e655a",
       "rows": [
        [
         "0",
         "-0.22059167639854937",
         "40"
        ],
        [
         "1",
         "1.9644411180413592",
         "30"
        ],
        [
         "2",
         "1.809872881778729",
         "28"
        ],
        [
         "3",
         "1.0089283847814634",
         "28"
        ],
        [
         "4",
         "1.275909883780552",
         "28"
        ],
        [
         "5",
         "3.4187877046942887",
         "28"
        ],
        [
         "6",
         "0.039363993679510476",
         "28"
        ],
        [
         "7",
         "-0.5859347802920389",
         "26"
        ],
        [
         "8",
         "1.0862125029127785",
         "26"
        ],
        [
         "9",
         "-1.2463626988687315",
         "24"
        ],
        [
         "10",
         "1.1424191342810077",
         "24"
        ],
        [
         "11",
         "3.1658578635372576",
         "24"
        ],
        [
         "12",
         "2.681075667986281",
         "24"
        ],
        [
         "13",
         "-1.5554991713939919",
         "23"
        ],
        [
         "14",
         "-1.6679124341304503",
         "22"
        ],
        [
         "15",
         "3.496071822825604",
         "22"
        ],
        [
         "16",
         "3.0674962586428562",
         "22"
        ],
        [
         "17",
         "0.13069976965288285",
         "22"
        ],
        [
         "18",
         "-1.1901560675005023",
         "22"
        ],
        [
         "19",
         "0.3695779529678568",
         "22"
        ],
        [
         "20",
         "3.390684389010174",
         "22"
        ],
        [
         "21",
         "-0.663218898423354",
         "22"
        ],
        [
         "22",
         "0.046389822600539116",
         "22"
        ],
        [
         "23",
         "-1.4711892243416482",
         "22"
        ],
        [
         "24",
         "0.25013886131036983",
         "22"
        ],
        [
         "25",
         "-0.24869499208266396",
         "21"
        ],
        [
         "26",
         "-1.3798534483682758",
         "21"
        ],
        [
         "27",
         "-1.2252852121056457",
         "20"
        ],
        [
         "28",
         "1.4094006332800961",
         "20"
        ],
        [
         "29",
         "-1.2112335542635884",
         "20"
        ],
        [
         "30",
         "2.3508617086979346",
         "20"
        ],
        [
         "31",
         "0.8332826617557474",
         "20"
        ],
        [
         "32",
         "2.596765720933937",
         "20"
        ],
        [
         "33",
         "1.7817695660946145",
         "20"
        ],
        [
         "34",
         "2.8286180753278827",
         "20"
        ],
        [
         "35",
         "0.5171203603094583",
         "20"
        ],
        [
         "36",
         "2.9550829959063982",
         "20"
        ],
        [
         "37",
         "-1.3025693302369608",
         "20"
        ],
        [
         "38",
         "-1.2533885277897603",
         "20"
        ],
        [
         "39",
         "0.12367394073185421",
         "20"
        ],
        [
         "40",
         "0.2150097167052266",
         "20"
        ],
        [
         "41",
         "-1.295543501315932",
         "20"
        ],
        [
         "42",
         "2.2033193013563332",
         "20"
        ],
        [
         "43",
         "2.7091789836703954",
         "20"
        ],
        [
         "44",
         "0.20798388778419796",
         "20"
        ],
        [
         "45",
         "3.1518062056952",
         "20"
        ],
        [
         "46",
         "1.1705224499651223",
         "20"
        ],
        [
         "47",
         "-1.6046799738411923",
         "20"
        ],
        [
         "48",
         "1.1634966210440936",
         "20"
        ],
        [
         "49",
         "-1.6468349473673642",
         "19"
        ]
       ],
       "shape": {
        "columns": 2,
        "rows": 326
       }
      },
      "text/html": [
       "<div>\n",
       "<style scoped>\n",
       "    .dataframe tbody tr th:only-of-type {\n",
       "        vertical-align: middle;\n",
       "    }\n",
       "\n",
       "    .dataframe tbody tr th {\n",
       "        vertical-align: top;\n",
       "    }\n",
       "\n",
       "    .dataframe thead th {\n",
       "        text-align: right;\n",
       "    }\n",
       "</style>\n",
       "<table border=\"1\" class=\"dataframe\">\n",
       "  <thead>\n",
       "    <tr style=\"text-align: right;\">\n",
       "      <th></th>\n",
       "      <th>step</th>\n",
       "      <th>count</th>\n",
       "    </tr>\n",
       "  </thead>\n",
       "  <tbody>\n",
       "    <tr>\n",
       "      <th>0</th>\n",
       "      <td>-0.220592</td>\n",
       "      <td>40</td>\n",
       "    </tr>\n",
       "    <tr>\n",
       "      <th>1</th>\n",
       "      <td>1.964441</td>\n",
       "      <td>30</td>\n",
       "    </tr>\n",
       "    <tr>\n",
       "      <th>2</th>\n",
       "      <td>1.809873</td>\n",
       "      <td>28</td>\n",
       "    </tr>\n",
       "    <tr>\n",
       "      <th>3</th>\n",
       "      <td>1.008928</td>\n",
       "      <td>28</td>\n",
       "    </tr>\n",
       "    <tr>\n",
       "      <th>4</th>\n",
       "      <td>1.275910</td>\n",
       "      <td>28</td>\n",
       "    </tr>\n",
       "    <tr>\n",
       "      <th>...</th>\n",
       "      <td>...</td>\n",
       "      <td>...</td>\n",
       "    </tr>\n",
       "    <tr>\n",
       "      <th>321</th>\n",
       "      <td>2.357888</td>\n",
       "      <td>12</td>\n",
       "    </tr>\n",
       "    <tr>\n",
       "      <th>322</th>\n",
       "      <td>-0.262747</td>\n",
       "      <td>12</td>\n",
       "    </tr>\n",
       "    <tr>\n",
       "      <th>323</th>\n",
       "      <td>2.343836</td>\n",
       "      <td>12</td>\n",
       "    </tr>\n",
       "    <tr>\n",
       "      <th>324</th>\n",
       "      <td>-0.206540</td>\n",
       "      <td>12</td>\n",
       "    </tr>\n",
       "    <tr>\n",
       "      <th>325</th>\n",
       "      <td>-0.318953</td>\n",
       "      <td>12</td>\n",
       "    </tr>\n",
       "  </tbody>\n",
       "</table>\n",
       "<p>326 rows × 2 columns</p>\n",
       "</div>"
      ],
      "text/plain": [
       "         step  count\n",
       "0   -0.220592     40\n",
       "1    1.964441     30\n",
       "2    1.809873     28\n",
       "3    1.008928     28\n",
       "4    1.275910     28\n",
       "..        ...    ...\n",
       "321  2.357888     12\n",
       "322 -0.262747     12\n",
       "323  2.343836     12\n",
       "324 -0.206540     12\n",
       "325 -0.318953     12\n",
       "\n",
       "[326 rows x 2 columns]"
      ]
     },
     "execution_count": 24,
     "metadata": {},
     "output_type": "execute_result"
    }
   ],
   "source": [
    "totalsteps = len(df_scaled_outlier_removed['step'].value_counts())\n",
    "total1 = len(df_scaled_outlier_removed[df_scaled_outlier_removed['isFraud'] == 1])\n",
    "\n",
    "fraud_count_by_step = df_scaled_outlier_removed[df_scaled_outlier_removed['isFraud'] == 1].groupby('step').size().reset_index(name='count')\n",
    "average_fraud_count = fraud_count_by_step['count'].mean()\n",
    "above_avg_fraud = fraud_count_by_step[fraud_count_by_step['count'] > average_fraud_count]\n",
    "above_avg_fraud = above_avg_fraud.sort_values(by='count', ascending=False).reset_index(drop=True)\n",
    "above_avg_fraud.head(326)"
   ]
  },
  {
   "cell_type": "code",
   "execution_count": 25,
   "id": "7d397929",
   "metadata": {},
   "outputs": [
    {
     "data": {
      "image/png": "[encoded data removed]",
      "text/plain": [
       "<Figure size 1000x400 with 1 Axes>"
      ]
     },
     "metadata": {},
     "output_type": "display_data"
    }
   ],
   "source": [
    "total_count = above_avg_fraud['count'].sum()\n",
    "fraud_counts = [total1 - total_count, total_count]\n",
    "step_counts = [totalsteps - 326, 326]\n",
    "labels = [\n",
    "    f\"{total1 - total_count} frauds in {totalsteps - 326} steps \",\n",
    "    f\"{total_count} frauds in 326 steps\"\n",
    "]\n",
    "colors = ['lightgray', 'crimson']\n",
    "\n",
    "# Plot\n",
    "plt.figure(figsize=(10, 4))\n",
    "bars = plt.barh(labels, fraud_counts, color=colors)\n",
    "\n",
    "# Annotate\n",
    "for bar in bars:\n",
    "    width = bar.get_width()\n",
    "    plt.text(width + 500, bar.get_y() + bar.get_height()/2,\n",
    "            f\"{width}\", va='center', fontweight='bold')\n",
    "\n",
    "plt.title(\"Concentration of Fraudulent Transactions by Step Risk\\nwhere 326 steps have fraud rate greater than the average fraud rate over whole month\")\n",
    "plt.xlabel(\"Number of Frauds\")\n",
    "plt.tight_layout()\n",
    "plt.grid(axis='x')\n",
    "plt.show()"
   ]
  },
  {
   "cell_type": "markdown",
   "id": "aa8915d5",
   "metadata": {},
   "source": [
    "***COLUMN = AMOUNT***"
   ]
  },
  {
   "cell_type": "code",
   "execution_count": 26,
   "id": "17e908bc",
   "metadata": {},
   "outputs": [
    {
     "name": "stdout",
     "output_type": "stream",
     "text": [
      "16.262325089724712 -0.29785454318914306\n",
      "16.560179632913854\n",
      "0.016560179632913855\n"
     ]
    },
    {
     "data": {
      "application/vnd.microsoft.datawrangler.viewer.v0+json": {
       "columns": [
        {
         "name": "index",
         "rawType": "int64",
         "type": "integer"
        },
        {
         "name": "Amount Range",
         "rawType": "category",
         "type": "unknown"
        },
        {
         "name": "Fraud_Count",
         "rawType": "int64",
         "type": "integer"
        }
       ],
       "conversionMethod": "pd.DataFrame",
       "ref": "40530dd9-a903-4741-8528-0abeb4405036",
       "rows": [
        [
         "0",
         "-0.3–-0.28",
         "278"
        ],
        [
         "1",
         "-0.26–-0.25",
         "211"
        ],
        [
         "2",
         "-0.28–-0.26",
         "188"
        ],
        [
         "3",
         "-0.25–-0.23",
         "181"
        ],
        [
         "4",
         "-0.23–-0.22",
         "180"
        ],
        [
         "5",
         "-0.18–-0.17",
         "158"
        ],
        [
         "6",
         "-0.22–-0.2",
         "148"
        ],
        [
         "7",
         "-0.13–-0.12",
         "132"
        ],
        [
         "8",
         "-0.1–-0.08",
         "126"
        ],
        [
         "9",
         "-0.2–-0.18",
         "126"
        ],
        [
         "10",
         "-0.17–-0.15",
         "125"
        ],
        [
         "11",
         "-0.12–-0.1",
         "124"
        ],
        [
         "12",
         "-0.02–0.0",
         "116"
        ],
        [
         "13",
         "-0.07–-0.05",
         "115"
        ],
        [
         "14",
         "-0.15–-0.13",
         "112"
        ],
        [
         "15",
         "-0.05–-0.03",
         "106"
        ],
        [
         "16",
         "-0.03–-0.02",
         "96"
        ],
        [
         "17",
         "-0.08–-0.07",
         "91"
        ],
        [
         "18",
         "0.1–0.12",
         "88"
        ],
        [
         "19",
         "0.05–0.07",
         "76"
        ],
        [
         "20",
         "0.12–0.13",
         "76"
        ],
        [
         "21",
         "0.07–0.08",
         "74"
        ],
        [
         "22",
         "0.03–0.05",
         "73"
        ],
        [
         "23",
         "0.27–0.28",
         "72"
        ],
        [
         "24",
         "0.0–0.02",
         "65"
        ],
        [
         "25",
         "0.3–0.31",
         "64"
        ],
        [
         "26",
         "0.02–0.03",
         "64"
        ],
        [
         "27",
         "0.08–0.1",
         "63"
        ],
        [
         "28",
         "0.13–0.15",
         "60"
        ],
        [
         "29",
         "0.25–0.27",
         "59"
        ],
        [
         "30",
         "0.18–0.2",
         "59"
        ],
        [
         "31",
         "0.28–0.3",
         "57"
        ],
        [
         "32",
         "0.15–0.17",
         "57"
        ],
        [
         "33",
         "0.23–0.25",
         "56"
        ],
        [
         "34",
         "0.17–0.18",
         "56"
        ],
        [
         "35",
         "0.45–0.46",
         "53"
        ],
        [
         "36",
         "0.2–0.22",
         "50"
        ],
        [
         "37",
         "0.43–0.45",
         "50"
        ],
        [
         "38",
         "0.31–0.33",
         "46"
        ],
        [
         "39",
         "0.22–0.23",
         "45"
        ],
        [
         "40",
         "0.36–0.38",
         "43"
        ],
        [
         "41",
         "0.58–0.6",
         "43"
        ],
        [
         "42",
         "0.53–0.55",
         "41"
        ],
        [
         "43",
         "0.38–0.4",
         "41"
        ],
        [
         "44",
         "0.41–0.43",
         "40"
        ],
        [
         "45",
         "0.48–0.5",
         "40"
        ],
        [
         "46",
         "0.4–0.41",
         "38"
        ],
        [
         "47",
         "0.73–0.75",
         "36"
        ],
        [
         "48",
         "0.46–0.48",
         "36"
        ],
        [
         "49",
         "0.51–0.53",
         "34"
        ]
       ],
       "shape": {
        "columns": 2,
        "rows": 1000
       }
      },
      "text/html": [
       "<div>\n",
       "<style scoped>\n",
       "    .dataframe tbody tr th:only-of-type {\n",
       "        vertical-align: middle;\n",
       "    }\n",
       "\n",
       "    .dataframe tbody tr th {\n",
       "        vertical-align: top;\n",
       "    }\n",
       "\n",
       "    .dataframe thead th {\n",
       "        text-align: right;\n",
       "    }\n",
       "</style>\n",
       "<table border=\"1\" class=\"dataframe\">\n",
       "  <thead>\n",
       "    <tr style=\"text-align: right;\">\n",
       "      <th></th>\n",
       "      <th>Amount Range</th>\n",
       "      <th>Fraud_Count</th>\n",
       "    </tr>\n",
       "  </thead>\n",
       "  <tbody>\n",
       "    <tr>\n",
       "      <th>0</th>\n",
       "      <td>-0.3–-0.28</td>\n",
       "      <td>278</td>\n",
       "    </tr>\n",
       "    <tr>\n",
       "      <th>1</th>\n",
       "      <td>-0.26–-0.25</td>\n",
       "      <td>211</td>\n",
       "    </tr>\n",
       "    <tr>\n",
       "      <th>2</th>\n",
       "      <td>-0.28–-0.26</td>\n",
       "      <td>188</td>\n",
       "    </tr>\n",
       "    <tr>\n",
       "      <th>3</th>\n",
       "      <td>-0.25–-0.23</td>\n",
       "      <td>181</td>\n",
       "    </tr>\n",
       "    <tr>\n",
       "      <th>4</th>\n",
       "      <td>-0.23–-0.22</td>\n",
       "      <td>180</td>\n",
       "    </tr>\n",
       "    <tr>\n",
       "      <th>...</th>\n",
       "      <td>...</td>\n",
       "      <td>...</td>\n",
       "    </tr>\n",
       "    <tr>\n",
       "      <th>995</th>\n",
       "      <td>10.98–11.0</td>\n",
       "      <td>0</td>\n",
       "    </tr>\n",
       "    <tr>\n",
       "      <th>996</th>\n",
       "      <td>10.96–10.98</td>\n",
       "      <td>0</td>\n",
       "    </tr>\n",
       "    <tr>\n",
       "      <th>997</th>\n",
       "      <td>10.95–10.96</td>\n",
       "      <td>0</td>\n",
       "    </tr>\n",
       "    <tr>\n",
       "      <th>998</th>\n",
       "      <td>10.93–10.95</td>\n",
       "      <td>0</td>\n",
       "    </tr>\n",
       "    <tr>\n",
       "      <th>999</th>\n",
       "      <td>7.98–8.0</td>\n",
       "      <td>0</td>\n",
       "    </tr>\n",
       "  </tbody>\n",
       "</table>\n",
       "<p>1000 rows × 2 columns</p>\n",
       "</div>"
      ],
      "text/plain": [
       "    Amount Range  Fraud_Count\n",
       "0     -0.3–-0.28          278\n",
       "1    -0.26–-0.25          211\n",
       "2    -0.28–-0.26          188\n",
       "3    -0.25–-0.23          181\n",
       "4    -0.23–-0.22          180\n",
       "..           ...          ...\n",
       "995   10.98–11.0            0\n",
       "996  10.96–10.98            0\n",
       "997  10.95–10.96            0\n",
       "998  10.93–10.95            0\n",
       "999     7.98–8.0            0\n",
       "\n",
       "[1000 rows x 2 columns]"
      ]
     },
     "execution_count": 26,
     "metadata": {},
     "output_type": "execute_result"
    }
   ],
   "source": [
    "max_val = df_scaled_outlier_removed['amount'].max()\n",
    "min_val = df_scaled_outlier_removed['amount'].min()\n",
    "print(max_val, min_val, sep=\" \")\n",
    "diff = max_val - min_val\n",
    "print(diff)\n",
    "num_bins = 1000\n",
    "print(diff/num_bins)\n",
    "\n",
    "bin_width = diff/num_bins\n",
    "bin_edges = np.arange(min_val, max_val + bin_width, bin_width)\n",
    "labels = [f\"{round(start, 2)}–{round(end, 2)}\" for start, end in zip(bin_edges[:-1], bin_edges[1:])]\n",
    "\n",
    "\n",
    "fraud_df_by_amount = df_scaled_outlier_removed[df_scaled_outlier_removed['isFraud'] == 1].copy()\n",
    "fraud_df_by_amount['amount_range'] = pd.cut(fraud_df_by_amount['amount'], bins=bin_edges, labels=labels, right=False)\n",
    "range_counts = fraud_df_by_amount['amount_range'].value_counts().sort_index().reset_index()\n",
    "range_counts.columns = ['Amount Range', 'Fraud_Count']\n",
    "sorted_range_counts = range_counts.sort_values(by='Fraud_Count', ascending=False).reset_index(drop=True)\n",
    "sorted_range_counts\n"
   ]
  },
  {
   "cell_type": "code",
   "execution_count": 27,
   "id": "8ee63dd2",
   "metadata": {},
   "outputs": [
    {
     "name": "stdout",
     "output_type": "stream",
     "text": [
      "7926\n",
      "5577\n"
     ]
    }
   ],
   "source": [
    "print(sorted_range_counts['Fraud_Count'].sum())\n",
    "sum = 0\n",
    "for i in range(100):\n",
    "    sum += sorted_range_counts['Fraud_Count'][i]\n",
    "\n",
    "print(sum)\n",
    "top_100_ranges = range_counts.head(100).sort_values(by='Fraud_Count', ascending=False)"
   ]
  },
  {
   "cell_type": "markdown",
   "id": "40733fbe",
   "metadata": {},
   "source": [
    "__FEATURE ENGINEERING__"
   ]
  },
  {
   "cell_type": "code",
   "execution_count": 28,
   "id": "fddee376",
   "metadata": {},
   "outputs": [
    {
     "data": {
      "text/plain": [
       "Index(['step', 'type', 'amount', 'nameOrig', 'oldbalanceOrg', 'newbalanceOrig',\n",
       "       'nameDest', 'oldbalanceDest', 'newbalanceDest', 'isFraud',\n",
       "       'isFlaggedFraud'],\n",
       "      dtype='object')"
      ]
     },
     "execution_count": 28,
     "metadata": {},
     "output_type": "execute_result"
    }
   ],
   "source": [
    "df_scaled_outlier_removed.columns"
   ]
  },
  {
   "cell_type": "markdown",
   "id": "eb884e1c",
   "metadata": {},
   "source": [
    "***Columns Removed Due to high Multicollinearty***"
   ]
  },
  {
   "cell_type": "code",
   "execution_count": 29,
   "id": "3faaa535",
   "metadata": {},
   "outputs": [
    {
     "data": {
      "text/plain": [
       "Index(['step', 'type', 'amount', 'isFraud', 'isFlaggedFraud',\n",
       "       'old_balance_change', 'old_balance_change%', 'new_balance_change',\n",
       "       'new_balance_change%'],\n",
       "      dtype='object')"
      ]
     },
     "execution_count": 29,
     "metadata": {},
     "output_type": "execute_result"
    }
   ],
   "source": [
    "df_scaled_outlier_removed[\"old_balance_change\"] = df_scaled_outlier_removed['oldbalanceOrg'] - df_scaled_outlier_removed['oldbalanceDest']\n",
    "df_scaled_outlier_removed[\"old_balance_change%\"] = ((df_scaled_outlier_removed['oldbalanceOrg'] - df_scaled_outlier_removed['oldbalanceDest'])/df_scaled_outlier_removed['oldbalanceOrg'])*100\n",
    "\n",
    "df_scaled_outlier_removed['new_balance_change'] = df_scaled_outlier_removed['newbalanceOrig'] - df_scaled_outlier_removed['newbalanceDest']\n",
    "df_scaled_outlier_removed[\"new_balance_change%\"] = ((df_scaled_outlier_removed['newbalanceOrig'] - df_scaled_outlier_removed['newbalanceDest'])/df_scaled_outlier_removed['oldbalanceOrg'])*100\n",
    "\n",
    "df_scaled_outlier_removed.drop(columns=['oldbalanceOrg', 'oldbalanceDest', 'newbalanceOrig', 'newbalanceDest', 'nameOrig', 'nameDest'], inplace=True)\n",
    "\n",
    "df_scaled_outlier_removed.columns"
   ]
  },
  {
   "cell_type": "markdown",
   "id": "d9fad078",
   "metadata": {},
   "source": [
    "__EDA FOR THE FINAL DATASET__"
   ]
  },
  {
   "cell_type": "code",
   "execution_count": 30,
   "id": "eadd1c32",
   "metadata": {},
   "outputs": [
    {
     "name": "stdout",
     "output_type": "stream",
     "text": [
      "['step', 'type', 'amount', 'isFlaggedFraud', 'old_balance_change', 'old_balance_change%', 'new_balance_change', 'new_balance_change%']\n"
     ]
    }
   ],
   "source": [
    "features = []\n",
    "for i in df_scaled_outlier_removed.columns:\n",
    "    if i != 'isFraud':\n",
    "        features.append(i)\n",
    "\n",
    "print(features)\n",
    "\n",
    "target = 'isFraud'"
   ]
  },
  {
   "cell_type": "code",
   "execution_count": 31,
   "id": "6660ecd4",
   "metadata": {},
   "outputs": [
    {
     "name": "stdout",
     "output_type": "stream",
     "text": [
      "df_scaled_outlier_removed - Feature List and Target\n",
      "['step', 'type', 'amount', 'isFlaggedFraud', 'old_balance_change', 'old_balance_change%', 'new_balance_change', 'new_balance_change%']\n",
      "\n",
      "isFraud\n",
      "\n",
      "df_scaled_outlier_removed - Correlation Table:\n",
      "isFraud                1.000000\n",
      "amount                 0.394537\n",
      "old_balance_change     0.197355\n",
      "step                   0.049818\n",
      "isFlaggedFraud         0.044081\n",
      "old_balance_change%    0.029552\n",
      "type                   0.016146\n",
      "new_balance_change%    0.008132\n",
      "new_balance_change    -0.099030\n",
      "Name: isFraud, dtype: float64\n"
     ]
    },
    {
     "data": {
      "image/png": "[encoded data removed]",
      "text/plain": [
       "<Figure size 1000x600 with 1 Axes>"
      ]
     },
     "metadata": {},
     "output_type": "display_data"
    },
    {
     "name": "stdout",
     "output_type": "stream",
     "text": [
      "-----------***--------------***-------------***\n"
     ]
    }
   ],
   "source": [
    "correlation_table_display(df_scaled_outlier_removed, features, target, df_name='df_scaled_outlier_removed')"
   ]
  },
  {
   "cell_type": "code",
   "execution_count": 32,
   "id": "6e45df16",
   "metadata": {},
   "outputs": [
    {
     "name": "stdout",
     "output_type": "stream",
     "text": [
      "df_scaled_outlier_removed - Feature List and Target\n",
      "['step', 'type', 'amount', 'isFlaggedFraud', 'old_balance_change', 'old_balance_change%', 'new_balance_change', 'new_balance_change%']\n",
      "\n",
      "isFraud\n",
      "\n",
      "df_scaled_outlier_removed - PPS Table:\n",
      "               Feature       PPS\n",
      "5  old_balance_change%  0.333333\n",
      "4   old_balance_change  0.200000\n",
      "0                 step  0.000000\n",
      "1                 type  0.000000\n",
      "2               amount  0.000000\n",
      "3       isFlaggedFraud  0.000000\n",
      "6   new_balance_change  0.000000\n",
      "7  new_balance_change%  0.000000\n",
      "-----------***--------------***-------------***\n"
     ]
    }
   ],
   "source": [
    "print_pps_score(df_scaled_outlier_removed, features, target, df_name='df_scaled_outlier_removed')"
   ]
  },
  {
   "cell_type": "code",
   "execution_count": 33,
   "id": "44523348",
   "metadata": {},
   "outputs": [
    {
     "name": "stdout",
     "output_type": "stream",
     "text": [
      "df_scaled_outlier_removed - Feature List and Target\n",
      "['step', 'type', 'amount', 'isFlaggedFraud', 'old_balance_change', 'old_balance_change%', 'new_balance_change', 'new_balance_change%']\n",
      "isFraud\n",
      "\n",
      "\n",
      "               Feature        VIF\n",
      "6   new_balance_change  15.341848\n",
      "4   old_balance_change  14.065192\n",
      "2               amount   7.206891\n",
      "1                 type   1.287467\n",
      "7  new_balance_change%   1.084964\n",
      "5  old_balance_change%   1.068559\n",
      "3       isFlaggedFraud   1.033998\n",
      "0                 step   1.000532\n"
     ]
    },
    {
     "data": {
      "image/png": "[encoded data removed]",
      "text/plain": [
       "<Figure size 1000x600 with 1 Axes>"
      ]
     },
     "metadata": {},
     "output_type": "display_data"
    },
    {
     "name": "stdout",
     "output_type": "stream",
     "text": [
      "-----------***--------------***-------------***\n"
     ]
    }
   ],
   "source": [
    "vif_display(df_scaled_outlier_removed, features, target, df_name='df_scaled_outlier_removed')"
   ]
  },
  {
   "cell_type": "code",
   "execution_count": 36,
   "id": "d8f86284",
   "metadata": {},
   "outputs": [
    {
     "name": "stdout",
     "output_type": "stream",
     "text": [
      "df_scaled_outlier_removed - Feature List and Target\n",
      "['step', 'type', 'amount', 'isFlaggedFraud', 'old_balance_change', 'old_balance_change%', 'new_balance_change', 'new_balance_change%']\n",
      "isFraud\n",
      "\n",
      "\n",
      "               Feature  MI Score\n",
      "1                 type  0.241949\n",
      "6   new_balance_change  0.035535\n",
      "4   old_balance_change  0.026340\n",
      "5  old_balance_change%  0.012042\n",
      "0                 step  0.011770\n",
      "2               amount  0.009273\n",
      "7  new_balance_change%  0.008555\n",
      "3       isFlaggedFraud  0.000990\n"
     ]
    },
    {
     "data": {
      "image/png": "[encoded data removed]",
      "text/plain": [
       "<Figure size 1000x600 with 1 Axes>"
      ]
     },
     "metadata": {},
     "output_type": "display_data"
    },
    {
     "name": "stdout",
     "output_type": "stream",
     "text": [
      "-----------***--------------***-------------***\n"
     ]
    }
   ],
   "source": [
    "mi_score_display(df_scaled_outlier_removed, features, target, df_name='df_scaled_outlier_removed')"
   ]
  },
  {
   "cell_type": "markdown",
   "id": "96742910",
   "metadata": {},
   "source": [
    "__MODELLING__"
   ]
  },
  {
   "cell_type": "code",
   "execution_count": 37,
   "id": "17c00013",
   "metadata": {},
   "outputs": [],
   "source": [
    "training_feature = ['step', 'type', 'amount', 'old_balance_change', 'old_balance_change%', 'new_balance_change', 'new_balance_change%']\n",
    "target = 'isFraud'\n",
    "\n",
    "x = df_scaled_outlier_removed[training_feature]\n",
    "y = df_scaled_outlier_removed[target]"
   ]
  },
  {
   "cell_type": "code",
   "execution_count": 38,
   "id": "24b3d9c2",
   "metadata": {},
   "outputs": [
    {
     "data": {
      "text/plain": [
       "((3206289, 7), (3206289,))"
      ]
     },
     "execution_count": 38,
     "metadata": {},
     "output_type": "execute_result"
    }
   ],
   "source": [
    "x.shape, y.shape"
   ]
  },
  {
   "cell_type": "code",
   "execution_count": 39,
   "id": "5e21db89",
   "metadata": {},
   "outputs": [
    {
     "data": {
      "text/plain": [
       "((2244402, 7), (961887, 7), (2244402,), (961887,))"
      ]
     },
     "execution_count": 39,
     "metadata": {},
     "output_type": "execute_result"
    }
   ],
   "source": [
    "x_train, x_test, y_train, y_test = train_test_split(x,y,test_size=0.3,random_state=42,stratify=y)\n",
    "x_train.shape, x_test.shape, y_train.shape, y_test.shape"
   ]
  },
  {
   "cell_type": "markdown",
   "id": "92f9edcf",
   "metadata": {},
   "source": [
    "***TREE MODELS ARE BEST FOR SUCH IMBALANCED DATASETS***"
   ]
  },
  {
   "cell_type": "code",
   "execution_count": 44,
   "id": "c2637522",
   "metadata": {},
   "outputs": [],
   "source": [
    "tree_models = {\n",
    "    \"Decision Tree\": DecisionTreeClassifier(random_state=42, criterion='gini'),\n",
    "    \"Random Forest\": RandomForestClassifier(n_estimators=50, random_state=42, verbose=0),\n",
    "    \"Extra Trees\": ExtraTreesClassifier(n_estimators=50, random_state=42, verbose=0),\n",
    "    \"XGBoost\": XGBClassifier(n_estimators=50, random_state=42, verbosity=0),\n",
    "    \"Histogram-based Gradient Boosting\": HistGradientBoostingClassifier(\n",
    "        l2_regularization=1.0,\n",
    "        learning_rate=0.1,\n",
    "        max_depth=10,\n",
    "        max_iter=60,\n",
    "        max_leaf_nodes=31,\n",
    "        random_state=42\n",
    "    )\n",
    "}"
   ]
  },
  {
   "cell_type": "markdown",
   "id": "b62d3e7e",
   "metadata": {},
   "source": [
    "***RESULTS***"
   ]
  },
  {
   "cell_type": "code",
   "execution_count": 49,
   "id": "ccec3c8a",
   "metadata": {},
   "outputs": [
    {
     "name": "stdout",
     "output_type": "stream",
     "text": [
      "Training Decision Tree\n",
      "\n",
      "📊 Results for: Decision Tree\n",
      "\n",
      "🔍 Threshold: 0.45\n"
     ]
    },
    {
     "data": {
      "image/png": "[encoded data removed]",
      "text/plain": [
       "<Figure size 640x480 with 2 Axes>"
      ]
     },
     "metadata": {},
     "output_type": "display_data"
    },
    {
     "name": "stdout",
     "output_type": "stream",
     "text": [
      "              precision    recall  f1-score   support\n",
      "\n",
      "           0       1.00      1.00      1.00    959423\n",
      "           1       0.86      0.88      0.87      2464\n",
      "\n",
      "    accuracy                           1.00    961887\n",
      "   macro avg       0.93      0.94      0.93    961887\n",
      "weighted avg       1.00      1.00      1.00    961887\n",
      "\n",
      "Training Random Forest\n",
      "\n",
      "📊 Results for: Random Forest\n",
      "\n",
      "🔍 Threshold: 0.45\n"
     ]
    },
    {
     "data": {
      "image/png": "[encoded data removed]",
      "text/plain": [
       "<Figure size 640x480 with 2 Axes>"
      ]
     },
     "metadata": {},
     "output_type": "display_data"
    },
    {
     "name": "stdout",
     "output_type": "stream",
     "text": [
      "              precision    recall  f1-score   support\n",
      "\n",
      "           0       1.00      1.00      1.00    959423\n",
      "           1       0.99      0.86      0.92      2464\n",
      "\n",
      "    accuracy                           1.00    961887\n",
      "   macro avg       1.00      0.93      0.96    961887\n",
      "weighted avg       1.00      1.00      1.00    961887\n",
      "\n",
      "Training Extra Trees\n",
      "\n",
      "📊 Results for: Extra Trees\n",
      "\n",
      "🔍 Threshold: 0.45\n"
     ]
    },
    {
     "data": {
      "image/png": "[encoded data removed]",
      "text/plain": [
       "<Figure size 640x480 with 2 Axes>"
      ]
     },
     "metadata": {},
     "output_type": "display_data"
    },
    {
     "name": "stdout",
     "output_type": "stream",
     "text": [
      "              precision    recall  f1-score   support\n",
      "\n",
      "           0       1.00      1.00      1.00    959423\n",
      "           1       0.98      0.86      0.92      2464\n",
      "\n",
      "    accuracy                           1.00    961887\n",
      "   macro avg       0.99      0.93      0.96    961887\n",
      "weighted avg       1.00      1.00      1.00    961887\n",
      "\n",
      "Training XGBoost\n",
      "\n",
      "📊 Results for: XGBoost\n",
      "\n",
      "🔍 Threshold: 0.45\n"
     ]
    },
    {
     "data": {
      "image/png": "[encoded data removed]",
      "text/plain": [
       "<Figure size 640x480 with 2 Axes>"
      ]
     },
     "metadata": {},
     "output_type": "display_data"
    },
    {
     "name": "stdout",
     "output_type": "stream",
     "text": [
      "              precision    recall  f1-score   support\n",
      "\n",
      "           0       1.00      1.00      1.00    959423\n",
      "           1       0.96      0.83      0.89      2464\n",
      "\n",
      "    accuracy                           1.00    961887\n",
      "   macro avg       0.98      0.91      0.94    961887\n",
      "weighted avg       1.00      1.00      1.00    961887\n",
      "\n",
      "Training Histogram-based Gradient Boosting\n",
      "\n",
      "📊 Results for: Histogram-based Gradient Boosting\n",
      "\n",
      "🔍 Threshold: 0.45\n"
     ]
    },
    {
     "data": {
      "image/png": "[encoded data removed]",
      "text/plain": [
       "<Figure size 640x480 with 2 Axes>"
      ]
     },
     "metadata": {},
     "output_type": "display_data"
    },
    {
     "name": "stdout",
     "output_type": "stream",
     "text": [
      "              precision    recall  f1-score   support\n",
      "\n",
      "           0       1.00      1.00      1.00    959423\n",
      "           1       0.94      0.82      0.88      2464\n",
      "\n",
      "    accuracy                           1.00    961887\n",
      "   macro avg       0.97      0.91      0.94    961887\n",
      "weighted avg       1.00      1.00      1.00    961887\n",
      "\n"
     ]
    }
   ],
   "source": [
    "for name, model in tree_models.items():\n",
    "    print(f\"Training {name}\")\n",
    "    model.fit(x_train,y_train)\n",
    "    evaluate_model(name, model, x_test, y_test, thresholds=[0.45])"
   ]
  },
  {
   "cell_type": "markdown",
   "id": "d8ae3a8f",
   "metadata": {},
   "source": [
    "***Concept of Ensembling***"
   ]
  },
  {
   "cell_type": "code",
   "execution_count": 53,
   "id": "2e6684da",
   "metadata": {},
   "outputs": [
    {
     "name": "stdout",
     "output_type": "stream",
     "text": [
      "\n",
      "📊 Results for: Ensemble Voting\n",
      "\n",
      "🔍 Threshold: 0.45\n"
     ]
    },
    {
     "data": {
      "image/png": "[encoded data removed]",
      "text/plain": [
       "<Figure size 640x480 with 2 Axes>"
      ]
     },
     "metadata": {},
     "output_type": "display_data"
    },
    {
     "name": "stdout",
     "output_type": "stream",
     "text": [
      "              precision    recall  f1-score   support\n",
      "\n",
      "           0       1.00      1.00      1.00    959423\n",
      "           1       0.99      0.86      0.92      2464\n",
      "\n",
      "    accuracy                           1.00    961887\n",
      "   macro avg       0.99      0.93      0.96    961887\n",
      "weighted avg       1.00      1.00      1.00    961887\n",
      "\n"
     ]
    }
   ],
   "source": [
    "ensemble = VotingClassifier(\n",
    "    estimators=[\n",
    "        ('rf', tree_models['Random Forest']),\n",
    "        ('et', tree_models['Extra Trees']),\n",
    "        ('xgb', tree_models['XGBoost']),\n",
    "        ('hgb', tree_models['Histogram-based Gradient Boosting'])\n",
    "    ],\n",
    "    voting='soft'  # Use 'hard' if you want majority class votes\n",
    ")\n",
    "\n",
    "ensemble.fit(x_train, y_train)\n",
    "evaluate_model(\"Ensemble Voting\", ensemble, x_test, y_test, thresholds=[0.45])"
   ]
  },
  {
   "cell_type": "code",
   "execution_count": 57,
   "id": "a488921b",
   "metadata": {},
   "outputs": [],
   "source": [
    "f1_scores = {\n",
    "    'Random Forest' : 0.92,\n",
    "    'Extra Trees' : 0.92,\n",
    "    'XGBoost' : 0.89,\n",
    "    'Histogram-based Gradient Boosting' : 0.88\n",
    "}\n",
    "del sum"
   ]
  },
  {
   "cell_type": "code",
   "execution_count": 58,
   "id": "cb86ea26",
   "metadata": {},
   "outputs": [
    {
     "name": "stdout",
     "output_type": "stream",
     "text": [
      "\n",
      "🔢 Normalized Weights (sum to 1):\n",
      "Random Forest: 0.2548\n",
      "Extra Trees: 0.2548\n",
      "XGBoost: 0.2465\n",
      "Histogram-based Gradient Boosting: 0.2438\n"
     ]
    }
   ],
   "source": [
    "total = sum(f1_scores.values())\n",
    "weights = {name: score / total for name, score in f1_scores.items()}\n",
    "\n",
    "print(\"\\n🔢 Normalized Weights (sum to 1):\")\n",
    "for name, weight in weights.items():\n",
    "    print(f\"{name}: {weight:.4f}\")"
   ]
  },
  {
   "cell_type": "code",
   "execution_count": 60,
   "id": "1bd77497",
   "metadata": {},
   "outputs": [
    {
     "data": {
      "image/png": "[encoded data removed]",
      "text/plain": [
       "<Figure size 640x480 with 2 Axes>"
      ]
     },
     "metadata": {},
     "output_type": "display_data"
    },
    {
     "name": "stdout",
     "output_type": "stream",
     "text": [
      "\n",
      "Classification Report:\n",
      "              precision    recall  f1-score   support\n",
      "\n",
      "           0       1.00      1.00      1.00    959423\n",
      "           1       0.99      0.86      0.92      2464\n",
      "\n",
      "    accuracy                           1.00    961887\n",
      "   macro avg       0.99      0.93      0.96    961887\n",
      "weighted avg       1.00      1.00      1.00    961887\n",
      "\n"
     ]
    }
   ],
   "source": [
    "weighted_probs = [\n",
    "    model.predict_proba(x_test)[:, 1] * weights[name]\n",
    "    for name, model in tree_models.items() if name != 'Decision Tree'\n",
    "]\n",
    "\n",
    "ensemble_probs = sum(weighted_probs)\n",
    "y_pred_ensemble = (ensemble_probs >= 0.45).astype(int)\n",
    "\n",
    "cm = confusion_matrix(y_test, y_pred_ensemble)\n",
    "disp = ConfusionMatrixDisplay(confusion_matrix=cm)\n",
    "disp.plot(cmap='Blues')\n",
    "plt.title(\"Confusion Matrix - Weighted Ensemble (Threshold 0.45)\")\n",
    "plt.show()\n",
    "\n",
    "# 📋 Classification Report\n",
    "print(\"\\nClassification Report:\")\n",
    "print(classification_report(y_test, y_pred_ensemble))\n"
   ]
  },
  {
   "cell_type": "code",
   "execution_count": 68,
   "id": "5a0ccfdd",
   "metadata": {},
   "outputs": [
    {
     "data": {
      "image/png": "[encoded data removed]",
      "text/plain": [
       "<Figure size 1000x700 with 1 Axes>"
      ]
     },
     "metadata": {},
     "output_type": "display_data"
    }
   ],
   "source": [
    "colors = {\n",
    "    'Random Forest': 'green',\n",
    "    'Voting': 'blue',\n",
    "    'Weighted Voting': 'orange'\n",
    "}\n",
    "\n",
    "M1 = {\n",
    "    'Random Forest': tree_models['Random Forest'],\n",
    "    'Voting': ensemble\n",
    "}\n",
    "\n",
    "plt.figure(figsize=(10, 7))\n",
    "\n",
    "for name, model in M1.items():\n",
    "    y_proba = model.predict_proba(x_test)[:, 1]\n",
    "    fpr, tpr, _ = roc_curve(y_test, y_proba)\n",
    "    roc_auc = auc(fpr, tpr)\n",
    "    plt.plot(fpr, tpr, label=f'{name} (AUC = {roc_auc:.2f})', color=colors[name])"
   ]
  },
  {
   "cell_type": "code",
   "execution_count": 66,
   "id": "23543977",
   "metadata": {},
   "outputs": [
    {
     "data": {
      "image/png": "[encoded data removed]",
      "text/plain": [
       "<Figure size 640x480 with 1 Axes>"
      ]
     },
     "metadata": {},
     "output_type": "display_data"
    }
   ],
   "source": [
    "fpr, tpr, _ = roc_curve(y_test, ensemble_probs)\n",
    "roc_auc = auc(fpr, tpr)\n",
    "plt.plot(fpr, tpr, label=f'Weighted Voting (AUC = {roc_auc:.2f})', linestyle='--', color=colors['Weighted Voting'])\n",
    "\n",
    "# Chance line\n",
    "plt.plot([0, 1], [0, 1], 'k--', label='Chance')\n",
    "\n",
    "# Plot styling\n",
    "plt.title('ROC AUC Curve Comparison')\n",
    "plt.xlabel('False Positive Rate')\n",
    "plt.ylabel('True Positive Rate')\n",
    "plt.legend(loc='lower right')\n",
    "plt.grid(True)\n",
    "plt.tight_layout()\n",
    "plt.show()"
   ]
  },
  {
   "cell_type": "markdown",
   "id": "4ed9a816",
   "metadata": {},
   "source": [
    "__FINALLY__"
   ]
  },
  {
   "cell_type": "markdown",
   "id": "d41f3722",
   "metadata": {},
   "source": [
    "we have, the following Models performing the best \n",
    "\n",
    "__RANDOM FOREST CLASSIFER__\n",
    "\n",
    "__VOTING CLASSIFIER__\n",
    "\n",
    "__WEIGHTAGE ENSEMBLING__\n",
    "\n",
    "\n",
    "              precision    recall  f1-score   support\n",
    "\n",
    "           0       1.00      1.00      1.00    959423\n",
    "           1       0.99      0.86      0.92      2464\n"
   ]
  },
  {
   "cell_type": "markdown",
   "id": "3a9516ec",
   "metadata": {},
   "source": []
  }
 ],
 "metadata": {
  "kernelspec": {
   "display_name": "Python 3",
   "language": "python",
   "name": "python3"
  },
  "language_info": {
   "codemirror_mode": {
    "name": "ipython",
    "version": 3
   },
   "file_extension": ".py",
   "mimetype": "text/x-python",
   "name": "python",
   "nbconvert_exporter": "python",
   "pygments_lexer": "ipython3",
   "version": "3.12.2"
  }
 },
 "nbformat": 4,
 "nbformat_minor": 5
}
