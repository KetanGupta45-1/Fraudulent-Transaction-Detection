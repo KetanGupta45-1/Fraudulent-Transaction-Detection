{
 "cells": [
  {
   "cell_type": "markdown",
   "id": "72f6c9aa",
   "metadata": {},
   "source": [
    "__IMPORTING THE LIBRARIES__\n"
   ]
  },
  {
   "cell_type": "code",
   "execution_count": 1,
   "id": "7fec38b3",
   "metadata": {},
   "outputs": [],
   "source": [
    "import pandas as pd\n",
    "import numpy as np\n",
    "import matplotlib.pyplot as plt\n",
    "from lightgbm import LGBMClassifier\n",
    "from xgboost import XGBClassifier\n",
    "from sklearn.ensemble import RandomForestClassifier\n",
    "from sklearn.linear_model import SGDClassifier, RidgeClassifier, LogisticRegression\n",
    "from sklearn.preprocessing import LabelEncoder\n",
    "import seaborn as sns\n",
    "import ppscore as pps\n",
    "from sklearn.model_selection import train_test_split\n",
    "from sklearn.preprocessing import StandardScaler\n",
    "from sklearn.metrics import confusion_matrix,ConfusionMatrixDisplay,classification_report\n",
    "from imblearn.over_sampling import SMOTE\n",
    "from statsmodels.stats.outliers_influence import variance_inflation_factor\n",
    "from statsmodels.tools.tools import add_constant\n",
    "from sklearn.feature_selection import mutual_info_classif\n",
    "import shap\n",
    "from sklearn.ensemble import IsolationForest\n",
    "from sklearn.decomposition import PCA\n",
    "from scipy.stats import zscore\n",
    "import math\n"
   ]
  },
  {
   "cell_type": "markdown",
   "id": "a00974b7",
   "metadata": {},
   "source": [
    "__IMPORTING THE CSV FILE__\n"
   ]
  },
  {
   "cell_type": "code",
   "execution_count": 2,
   "id": "7cb70b10",
   "metadata": {},
   "outputs": [],
   "source": [
    "df = pd.read_csv(\"Fraud.csv\")"
   ]
  },
  {
   "cell_type": "code",
   "execution_count": 3,
   "metadata": {},
   "outputs": [
    {
     "data": {
      "application/vnd.microsoft.datawrangler.viewer.v0+json": {
       "columns": [
        {
         "name": "index",
         "rawType": "int64",
         "type": "integer"
        },
        {
         "name": "step",
         "rawType": "int64",
         "type": "integer"
        },
        {
         "name": "type",
         "rawType": "object",
         "type": "string"
        },
        {
         "name": "amount",
         "rawType": "float64",
         "type": "float"
        },
        {
         "name": "nameOrig",
         "rawType": "object",
         "type": "string"
        },
        {
         "name": "oldbalanceOrg",
         "rawType": "float64",
         "type": "float"
        },
        {
         "name": "newbalanceOrig",
         "rawType": "float64",
         "type": "float"
        },
        {
         "name": "nameDest",
         "rawType": "object",
         "type": "string"
        },
        {
         "name": "oldbalanceDest",
         "rawType": "float64",
         "type": "float"
        },
        {
         "name": "newbalanceDest",
         "rawType": "float64",
         "type": "float"
        },
        {
         "name": "isFraud",
         "rawType": "int64",
         "type": "integer"
        },
        {
         "name": "isFlaggedFraud",
         "rawType": "int64",
         "type": "integer"
        }
       ],
       "conversionMethod": "pd.DataFrame",
       "ref": "c09b33ad-a643-4e5f-9dc3-0ad82ebc53f3",
       "rows": [
        [
         "0",
         "1",
         "PAYMENT",
         "9839.64",
         "C1231006815",
         "170136.0",
         "160296.36",
         "M1979787155",
         "0.0",
         "0.0",
         "0",
         "0"
        ],
        [
         "1",
         "1",
         "PAYMENT",
         "1864.28",
         "C1666544295",
         "21249.0",
         "19384.72",
         "M2044282225",
         "0.0",
         "0.0",
         "0",
         "0"
        ],
        [
         "2",
         "1",
         "TRANSFER",
         "181.0",
         "C1305486145",
         "181.0",
         "0.0",
         "C553264065",
         "0.0",
         "0.0",
         "1",
         "0"
        ],
        [
         "3",
         "1",
         "CASH_OUT",
         "181.0",
         "C840083671",
         "181.0",
         "0.0",
         "C38997010",
         "21182.0",
         "0.0",
         "1",
         "0"
        ],
        [
         "4",
         "1",
         "PAYMENT",
         "11668.14",
         "C2048537720",
         "41554.0",
         "29885.86",
         "M1230701703",
         "0.0",
         "0.0",
         "0",
         "0"
        ],
        [
         "5",
         "1",
         "PAYMENT",
         "7817.71",
         "C90045638",
         "53860.0",
         "46042.29",
         "M573487274",
         "0.0",
         "0.0",
         "0",
         "0"
        ],
        [
         "6",
         "1",
         "PAYMENT",
         "7107.77",
         "C154988899",
         "183195.0",
         "176087.23",
         "M408069119",
         "0.0",
         "0.0",
         "0",
         "0"
        ],
        [
         "7",
         "1",
         "PAYMENT",
         "7861.64",
         "C1912850431",
         "176087.23",
         "168225.59",
         "M633326333",
         "0.0",
         "0.0",
         "0",
         "0"
        ],
        [
         "8",
         "1",
         "PAYMENT",
         "4024.36",
         "C1265012928",
         "2671.0",
         "0.0",
         "M1176932104",
         "0.0",
         "0.0",
         "0",
         "0"
        ],
        [
         "9",
         "1",
         "DEBIT",
         "5337.77",
         "C712410124",
         "41720.0",
         "36382.23",
         "C195600860",
         "41898.0",
         "40348.79",
         "0",
         "0"
        ]
       ],
       "shape": {
        "columns": 11,
        "rows": 10
       }
      },
      "text/html": [
       "<div>\n",
       "<style scoped>\n",
       "    .dataframe tbody tr th:only-of-type {\n",
       "        vertical-align: middle;\n",
       "    }\n",
       "\n",
       "    .dataframe tbody tr th {\n",
       "        vertical-align: top;\n",
       "    }\n",
       "\n",
       "    .dataframe thead th {\n",
       "        text-align: right;\n",
       "    }\n",
       "</style>\n",
       "<table border=\"1\" class=\"dataframe\">\n",
       "  <thead>\n",
       "    <tr style=\"text-align: right;\">\n",
       "      <th></th>\n",
       "      <th>step</th>\n",
       "      <th>type</th>\n",
       "      <th>amount</th>\n",
       "      <th>nameOrig</th>\n",
       "      <th>oldbalanceOrg</th>\n",
       "      <th>newbalanceOrig</th>\n",
       "      <th>nameDest</th>\n",
       "      <th>oldbalanceDest</th>\n",
       "      <th>newbalanceDest</th>\n",
       "      <th>isFraud</th>\n",
       "      <th>isFlaggedFraud</th>\n",
       "    </tr>\n",
       "  </thead>\n",
       "  <tbody>\n",
       "    <tr>\n",
       "      <th>0</th>\n",
       "      <td>1</td>\n",
       "      <td>PAYMENT</td>\n",
       "      <td>9839.64</td>\n",
       "      <td>C1231006815</td>\n",
       "      <td>170136.00</td>\n",
       "      <td>160296.36</td>\n",
       "      <td>M1979787155</td>\n",
       "      <td>0.0</td>\n",
       "      <td>0.00</td>\n",
       "      <td>0</td>\n",
       "      <td>0</td>\n",
       "    </tr>\n",
       "    <tr>\n",
       "      <th>1</th>\n",
       "      <td>1</td>\n",
       "      <td>PAYMENT</td>\n",
       "      <td>1864.28</td>\n",
       "      <td>C1666544295</td>\n",
       "      <td>21249.00</td>\n",
       "      <td>19384.72</td>\n",
       "      <td>M2044282225</td>\n",
       "      <td>0.0</td>\n",
       "      <td>0.00</td>\n",
       "      <td>0</td>\n",
       "      <td>0</td>\n",
       "    </tr>\n",
       "    <tr>\n",
       "      <th>2</th>\n",
       "      <td>1</td>\n",
       "      <td>TRANSFER</td>\n",
       "      <td>181.00</td>\n",
       "      <td>C1305486145</td>\n",
       "      <td>181.00</td>\n",
       "      <td>0.00</td>\n",
       "      <td>C553264065</td>\n",
       "      <td>0.0</td>\n",
       "      <td>0.00</td>\n",
       "      <td>1</td>\n",
       "      <td>0</td>\n",
       "    </tr>\n",
       "    <tr>\n",
       "      <th>3</th>\n",
       "      <td>1</td>\n",
       "      <td>CASH_OUT</td>\n",
       "      <td>181.00</td>\n",
       "      <td>C840083671</td>\n",
       "      <td>181.00</td>\n",
       "      <td>0.00</td>\n",
       "      <td>C38997010</td>\n",
       "      <td>21182.0</td>\n",
       "      <td>0.00</td>\n",
       "      <td>1</td>\n",
       "      <td>0</td>\n",
       "    </tr>\n",
       "    <tr>\n",
       "      <th>4</th>\n",
       "      <td>1</td>\n",
       "      <td>PAYMENT</td>\n",
       "      <td>11668.14</td>\n",
       "      <td>C2048537720</td>\n",
       "      <td>41554.00</td>\n",
       "      <td>29885.86</td>\n",
       "      <td>M1230701703</td>\n",
       "      <td>0.0</td>\n",
       "      <td>0.00</td>\n",
       "      <td>0</td>\n",
       "      <td>0</td>\n",
       "    </tr>\n",
       "    <tr>\n",
       "      <th>5</th>\n",
       "      <td>1</td>\n",
       "      <td>PAYMENT</td>\n",
       "      <td>7817.71</td>\n",
       "      <td>C90045638</td>\n",
       "      <td>53860.00</td>\n",
       "      <td>46042.29</td>\n",
       "      <td>M573487274</td>\n",
       "      <td>0.0</td>\n",
       "      <td>0.00</td>\n",
       "      <td>0</td>\n",
       "      <td>0</td>\n",
       "    </tr>\n",
       "    <tr>\n",
       "      <th>6</th>\n",
       "      <td>1</td>\n",
       "      <td>PAYMENT</td>\n",
       "      <td>7107.77</td>\n",
       "      <td>C154988899</td>\n",
       "      <td>183195.00</td>\n",
       "      <td>176087.23</td>\n",
       "      <td>M408069119</td>\n",
       "      <td>0.0</td>\n",
       "      <td>0.00</td>\n",
       "      <td>0</td>\n",
       "      <td>0</td>\n",
       "    </tr>\n",
       "    <tr>\n",
       "      <th>7</th>\n",
       "      <td>1</td>\n",
       "      <td>PAYMENT</td>\n",
       "      <td>7861.64</td>\n",
       "      <td>C1912850431</td>\n",
       "      <td>176087.23</td>\n",
       "      <td>168225.59</td>\n",
       "      <td>M633326333</td>\n",
       "      <td>0.0</td>\n",
       "      <td>0.00</td>\n",
       "      <td>0</td>\n",
       "      <td>0</td>\n",
       "    </tr>\n",
       "    <tr>\n",
       "      <th>8</th>\n",
       "      <td>1</td>\n",
       "      <td>PAYMENT</td>\n",
       "      <td>4024.36</td>\n",
       "      <td>C1265012928</td>\n",
       "      <td>2671.00</td>\n",
       "      <td>0.00</td>\n",
       "      <td>M1176932104</td>\n",
       "      <td>0.0</td>\n",
       "      <td>0.00</td>\n",
       "      <td>0</td>\n",
       "      <td>0</td>\n",
       "    </tr>\n",
       "    <tr>\n",
       "      <th>9</th>\n",
       "      <td>1</td>\n",
       "      <td>DEBIT</td>\n",
       "      <td>5337.77</td>\n",
       "      <td>C712410124</td>\n",
       "      <td>41720.00</td>\n",
       "      <td>36382.23</td>\n",
       "      <td>C195600860</td>\n",
       "      <td>41898.0</td>\n",
       "      <td>40348.79</td>\n",
       "      <td>0</td>\n",
       "      <td>0</td>\n",
       "    </tr>\n",
       "  </tbody>\n",
       "</table>\n",
       "</div>"
      ],
      "text/plain": [
       "   step      type    amount     nameOrig  oldbalanceOrg  newbalanceOrig  \\\n",
       "0     1   PAYMENT   9839.64  C1231006815      170136.00       160296.36   \n",
       "1     1   PAYMENT   1864.28  C1666544295       21249.00        19384.72   \n",
       "2     1  TRANSFER    181.00  C1305486145         181.00            0.00   \n",
       "3     1  CASH_OUT    181.00   C840083671         181.00            0.00   \n",
       "4     1   PAYMENT  11668.14  C2048537720       41554.00        29885.86   \n",
       "5     1   PAYMENT   7817.71    C90045638       53860.00        46042.29   \n",
       "6     1   PAYMENT   7107.77   C154988899      183195.00       176087.23   \n",
       "7     1   PAYMENT   7861.64  C1912850431      176087.23       168225.59   \n",
       "8     1   PAYMENT   4024.36  C1265012928        2671.00            0.00   \n",
       "9     1     DEBIT   5337.77   C712410124       41720.00        36382.23   \n",
       "\n",
       "      nameDest  oldbalanceDest  newbalanceDest  isFraud  isFlaggedFraud  \n",
       "0  M1979787155             0.0            0.00        0               0  \n",
       "1  M2044282225             0.0            0.00        0               0  \n",
       "2   C553264065             0.0            0.00        1               0  \n",
       "3    C38997010         21182.0            0.00        1               0  \n",
       "4  M1230701703             0.0            0.00        0               0  \n",
       "5   M573487274             0.0            0.00        0               0  \n",
       "6   M408069119             0.0            0.00        0               0  \n",
       "7   M633326333             0.0            0.00        0               0  \n",
       "8  M1176932104             0.0            0.00        0               0  \n",
       "9   C195600860         41898.0        40348.79        0               0  "
      ]
     },
     "execution_count": 3,
     "metadata": {},
     "output_type": "execute_result"
    }
   ],
   "source": [
    "df.head(10)"
   ]
  },
  {
   "cell_type": "markdown",
   "id": "dd7ed802",
   "metadata": {},
   "source": [
    "__EXPLORATORY DATA ANALYSIS__"
   ]
  },
  {
   "cell_type": "code",
   "execution_count": 4,
   "id": "01d6b88a",
   "metadata": {},
   "outputs": [
    {
     "name": "stdout",
     "output_type": "stream",
     "text": [
      "<class 'pandas.core.frame.DataFrame'>\n",
      "RangeIndex: 6362620 entries, 0 to 6362619\n",
      "Data columns (total 11 columns):\n",
      " #   Column          Dtype  \n",
      "---  ------          -----  \n",
      " 0   step            int64  \n",
      " 1   type            object \n",
      " 2   amount          float64\n",
      " 3   nameOrig        object \n",
      " 4   oldbalanceOrg   float64\n",
      " 5   newbalanceOrig  float64\n",
      " 6   nameDest        object \n",
      " 7   oldbalanceDest  float64\n",
      " 8   newbalanceDest  float64\n",
      " 9   isFraud         int64  \n",
      " 10  isFlaggedFraud  int64  \n",
      "dtypes: float64(5), int64(3), object(3)\n",
      "memory usage: 534.0+ MB\n"
     ]
    }
   ],
   "source": [
    "df.info()"
   ]
  },
  {
   "cell_type": "code",
   "execution_count": 5,
   "id": "eb5bb94b",
   "metadata": {},
   "outputs": [
    {
     "data": {
      "application/vnd.microsoft.datawrangler.viewer.v0+json": {
       "columns": [
        {
         "name": "index",
         "rawType": "object",
         "type": "string"
        },
        {
         "name": "step",
         "rawType": "float64",
         "type": "float"
        },
        {
         "name": "amount",
         "rawType": "float64",
         "type": "float"
        },
        {
         "name": "oldbalanceOrg",
         "rawType": "float64",
         "type": "float"
        },
        {
         "name": "newbalanceOrig",
         "rawType": "float64",
         "type": "float"
        },
        {
         "name": "oldbalanceDest",
         "rawType": "float64",
         "type": "float"
        },
        {
         "name": "newbalanceDest",
         "rawType": "float64",
         "type": "float"
        },
        {
         "name": "isFraud",
         "rawType": "float64",
         "type": "float"
        },
        {
         "name": "isFlaggedFraud",
         "rawType": "float64",
         "type": "float"
        }
       ],
       "conversionMethod": "pd.DataFrame",
       "ref": "578494c4-046e-414b-aea7-51474ba6ff39",
       "rows": [
        [
         "count",
         "6362620.0",
         "6362620.0",
         "6362620.0",
         "6362620.0",
         "6362620.0",
         "6362620.0",
         "6362620.0",
         "6362620.0"
        ],
        [
         "mean",
         "243.39724563151657",
         "179861.90354913071",
         "833883.1040744866",
         "855113.6685785869",
         "1100701.6665196486",
         "1224996.3982019299",
         "0.001290820448180152",
         "2.51468734577894e-06"
        ],
        [
         "std",
         "142.33197104912992",
         "603858.2314629358",
         "2888242.6730375555",
         "2924048.5029542665",
         "3399180.1129944767",
         "3674128.9421196356",
         "0.03590479680160413",
         "0.001585774705736547"
        ],
        [
         "min",
         "1.0",
         "0.0",
         "0.0",
         "0.0",
         "0.0",
         "0.0",
         "0.0",
         "0.0"
        ],
        [
         "25%",
         "156.0",
         "13389.57",
         "0.0",
         "0.0",
         "0.0",
         "0.0",
         "0.0",
         "0.0"
        ],
        [
         "50%",
         "239.0",
         "74871.94",
         "14208.0",
         "0.0",
         "132705.66499999998",
         "214661.44",
         "0.0",
         "0.0"
        ],
        [
         "75%",
         "335.0",
         "208721.4775",
         "107315.175",
         "144258.41",
         "943036.7075",
         "1111909.25",
         "0.0",
         "0.0"
        ],
        [
         "max",
         "743.0",
         "92445516.64",
         "59585040.37",
         "49585040.37",
         "356015889.35",
         "356179278.92",
         "1.0",
         "1.0"
        ]
       ],
       "shape": {
        "columns": 8,
        "rows": 8
       }
      },
      "text/html": [
       "<div>\n",
       "<style scoped>\n",
       "    .dataframe tbody tr th:only-of-type {\n",
       "        vertical-align: middle;\n",
       "    }\n",
       "\n",
       "    .dataframe tbody tr th {\n",
       "        vertical-align: top;\n",
       "    }\n",
       "\n",
       "    .dataframe thead th {\n",
       "        text-align: right;\n",
       "    }\n",
       "</style>\n",
       "<table border=\"1\" class=\"dataframe\">\n",
       "  <thead>\n",
       "    <tr style=\"text-align: right;\">\n",
       "      <th></th>\n",
       "      <th>step</th>\n",
       "      <th>amount</th>\n",
       "      <th>oldbalanceOrg</th>\n",
       "      <th>newbalanceOrig</th>\n",
       "      <th>oldbalanceDest</th>\n",
       "      <th>newbalanceDest</th>\n",
       "      <th>isFraud</th>\n",
       "      <th>isFlaggedFraud</th>\n",
       "    </tr>\n",
       "  </thead>\n",
       "  <tbody>\n",
       "    <tr>\n",
       "      <th>count</th>\n",
       "      <td>6.362620e+06</td>\n",
       "      <td>6.362620e+06</td>\n",
       "      <td>6.362620e+06</td>\n",
       "      <td>6.362620e+06</td>\n",
       "      <td>6.362620e+06</td>\n",
       "      <td>6.362620e+06</td>\n",
       "      <td>6.362620e+06</td>\n",
       "      <td>6.362620e+06</td>\n",
       "    </tr>\n",
       "    <tr>\n",
       "      <th>mean</th>\n",
       "      <td>2.433972e+02</td>\n",
       "      <td>1.798619e+05</td>\n",
       "      <td>8.338831e+05</td>\n",
       "      <td>8.551137e+05</td>\n",
       "      <td>1.100702e+06</td>\n",
       "      <td>1.224996e+06</td>\n",
       "      <td>1.290820e-03</td>\n",
       "      <td>2.514687e-06</td>\n",
       "    </tr>\n",
       "    <tr>\n",
       "      <th>std</th>\n",
       "      <td>1.423320e+02</td>\n",
       "      <td>6.038582e+05</td>\n",
       "      <td>2.888243e+06</td>\n",
       "      <td>2.924049e+06</td>\n",
       "      <td>3.399180e+06</td>\n",
       "      <td>3.674129e+06</td>\n",
       "      <td>3.590480e-02</td>\n",
       "      <td>1.585775e-03</td>\n",
       "    </tr>\n",
       "    <tr>\n",
       "      <th>min</th>\n",
       "      <td>1.000000e+00</td>\n",
       "      <td>0.000000e+00</td>\n",
       "      <td>0.000000e+00</td>\n",
       "      <td>0.000000e+00</td>\n",
       "      <td>0.000000e+00</td>\n",
       "      <td>0.000000e+00</td>\n",
       "      <td>0.000000e+00</td>\n",
       "      <td>0.000000e+00</td>\n",
       "    </tr>\n",
       "    <tr>\n",
       "      <th>25%</th>\n",
       "      <td>1.560000e+02</td>\n",
       "      <td>1.338957e+04</td>\n",
       "      <td>0.000000e+00</td>\n",
       "      <td>0.000000e+00</td>\n",
       "      <td>0.000000e+00</td>\n",
       "      <td>0.000000e+00</td>\n",
       "      <td>0.000000e+00</td>\n",
       "      <td>0.000000e+00</td>\n",
       "    </tr>\n",
       "    <tr>\n",
       "      <th>50%</th>\n",
       "      <td>2.390000e+02</td>\n",
       "      <td>7.487194e+04</td>\n",
       "      <td>1.420800e+04</td>\n",
       "      <td>0.000000e+00</td>\n",
       "      <td>1.327057e+05</td>\n",
       "      <td>2.146614e+05</td>\n",
       "      <td>0.000000e+00</td>\n",
       "      <td>0.000000e+00</td>\n",
       "    </tr>\n",
       "    <tr>\n",
       "      <th>75%</th>\n",
       "      <td>3.350000e+02</td>\n",
       "      <td>2.087215e+05</td>\n",
       "      <td>1.073152e+05</td>\n",
       "      <td>1.442584e+05</td>\n",
       "      <td>9.430367e+05</td>\n",
       "      <td>1.111909e+06</td>\n",
       "      <td>0.000000e+00</td>\n",
       "      <td>0.000000e+00</td>\n",
       "    </tr>\n",
       "    <tr>\n",
       "      <th>max</th>\n",
       "      <td>7.430000e+02</td>\n",
       "      <td>9.244552e+07</td>\n",
       "      <td>5.958504e+07</td>\n",
       "      <td>4.958504e+07</td>\n",
       "      <td>3.560159e+08</td>\n",
       "      <td>3.561793e+08</td>\n",
       "      <td>1.000000e+00</td>\n",
       "      <td>1.000000e+00</td>\n",
       "    </tr>\n",
       "  </tbody>\n",
       "</table>\n",
       "</div>"
      ],
      "text/plain": [
       "               step        amount  oldbalanceOrg  newbalanceOrig  \\\n",
       "count  6.362620e+06  6.362620e+06   6.362620e+06    6.362620e+06   \n",
       "mean   2.433972e+02  1.798619e+05   8.338831e+05    8.551137e+05   \n",
       "std    1.423320e+02  6.038582e+05   2.888243e+06    2.924049e+06   \n",
       "min    1.000000e+00  0.000000e+00   0.000000e+00    0.000000e+00   \n",
       "25%    1.560000e+02  1.338957e+04   0.000000e+00    0.000000e+00   \n",
       "50%    2.390000e+02  7.487194e+04   1.420800e+04    0.000000e+00   \n",
       "75%    3.350000e+02  2.087215e+05   1.073152e+05    1.442584e+05   \n",
       "max    7.430000e+02  9.244552e+07   5.958504e+07    4.958504e+07   \n",
       "\n",
       "       oldbalanceDest  newbalanceDest       isFraud  isFlaggedFraud  \n",
       "count    6.362620e+06    6.362620e+06  6.362620e+06    6.362620e+06  \n",
       "mean     1.100702e+06    1.224996e+06  1.290820e-03    2.514687e-06  \n",
       "std      3.399180e+06    3.674129e+06  3.590480e-02    1.585775e-03  \n",
       "min      0.000000e+00    0.000000e+00  0.000000e+00    0.000000e+00  \n",
       "25%      0.000000e+00    0.000000e+00  0.000000e+00    0.000000e+00  \n",
       "50%      1.327057e+05    2.146614e+05  0.000000e+00    0.000000e+00  \n",
       "75%      9.430367e+05    1.111909e+06  0.000000e+00    0.000000e+00  \n",
       "max      3.560159e+08    3.561793e+08  1.000000e+00    1.000000e+00  "
      ]
     },
     "execution_count": 5,
     "metadata": {},
     "output_type": "execute_result"
    }
   ],
   "source": [
    "df.describe()"
   ]
  },
  {
   "cell_type": "code",
   "execution_count": 6,
   "id": "7ae1bbad",
   "metadata": {},
   "outputs": [
    {
     "data": {
      "text/plain": [
       "(6362620, 11)"
      ]
     },
     "execution_count": 6,
     "metadata": {},
     "output_type": "execute_result"
    }
   ],
   "source": [
    "df.shape"
   ]
  },
  {
   "cell_type": "markdown",
   "id": "a99ef802",
   "metadata": {},
   "source": [
    "***using label encoder as steps done in the future need numeric columns only***"
   ]
  },
  {
   "cell_type": "code",
   "execution_count": 7,
   "id": "65e3ee03",
   "metadata": {},
   "outputs": [],
   "source": [
    "def labelencoder(df):\n",
    "    encoders = {}\n",
    "    col = df.select_dtypes(include='object').columns\n",
    "    for i in col:\n",
    "        le = LabelEncoder()\n",
    "        df[i] = le.fit_transform(df[i])\n",
    "        encoders[i] = le  # Save encoder for that column\n",
    "    return df, encoders\n",
    "\n"
   ]
  },
  {
   "cell_type": "code",
   "execution_count": 8,
   "id": "4a2fa491",
   "metadata": {},
   "outputs": [],
   "source": [
    "df, encoders = labelencoder(df)\n"
   ]
  },
  {
   "cell_type": "code",
   "execution_count": 9,
   "id": "5bcd8777",
   "metadata": {},
   "outputs": [
    {
     "data": {
      "application/vnd.microsoft.datawrangler.viewer.v0+json": {
       "columns": [
        {
         "name": "index",
         "rawType": "int64",
         "type": "integer"
        },
        {
         "name": "step",
         "rawType": "int64",
         "type": "integer"
        },
        {
         "name": "type",
         "rawType": "int32",
         "type": "integer"
        },
        {
         "name": "amount",
         "rawType": "float64",
         "type": "float"
        },
        {
         "name": "nameOrig",
         "rawType": "int32",
         "type": "integer"
        },
        {
         "name": "oldbalanceOrg",
         "rawType": "float64",
         "type": "float"
        },
        {
         "name": "newbalanceOrig",
         "rawType": "float64",
         "type": "float"
        },
        {
         "name": "nameDest",
         "rawType": "int32",
         "type": "integer"
        },
        {
         "name": "oldbalanceDest",
         "rawType": "float64",
         "type": "float"
        },
        {
         "name": "newbalanceDest",
         "rawType": "float64",
         "type": "float"
        },
        {
         "name": "isFraud",
         "rawType": "int64",
         "type": "integer"
        },
        {
         "name": "isFlaggedFraud",
         "rawType": "int64",
         "type": "integer"
        }
       ],
       "conversionMethod": "pd.DataFrame",
       "ref": "46f9fa0e-3652-4572-954c-af81a924d3ca",
       "rows": [
        [
         "0",
         "1",
         "3",
         "9839.64",
         "757869",
         "170136.0",
         "160296.36",
         "1662094",
         "0.0",
         "0.0",
         "0",
         "0"
        ],
        [
         "1",
         "1",
         "3",
         "1864.28",
         "2188998",
         "21249.0",
         "19384.72",
         "1733924",
         "0.0",
         "0.0",
         "0",
         "0"
        ],
        [
         "2",
         "1",
         "4",
         "181.0",
         "1002156",
         "181.0",
         "0.0",
         "439685",
         "0.0",
         "0.0",
         "1",
         "0"
        ],
        [
         "3",
         "1",
         "1",
         "181.0",
         "5828262",
         "181.0",
         "0.0",
         "391696",
         "21182.0",
         "0.0",
         "1",
         "0"
        ],
        [
         "4",
         "1",
         "3",
         "11668.14",
         "3445981",
         "41554.0",
         "29885.86",
         "828919",
         "0.0",
         "0.0",
         "0",
         "0"
        ]
       ],
       "shape": {
        "columns": 11,
        "rows": 5
       }
      },
      "text/html": [
       "<div>\n",
       "<style scoped>\n",
       "    .dataframe tbody tr th:only-of-type {\n",
       "        vertical-align: middle;\n",
       "    }\n",
       "\n",
       "    .dataframe tbody tr th {\n",
       "        vertical-align: top;\n",
       "    }\n",
       "\n",
       "    .dataframe thead th {\n",
       "        text-align: right;\n",
       "    }\n",
       "</style>\n",
       "<table border=\"1\" class=\"dataframe\">\n",
       "  <thead>\n",
       "    <tr style=\"text-align: right;\">\n",
       "      <th></th>\n",
       "      <th>step</th>\n",
       "      <th>type</th>\n",
       "      <th>amount</th>\n",
       "      <th>nameOrig</th>\n",
       "      <th>oldbalanceOrg</th>\n",
       "      <th>newbalanceOrig</th>\n",
       "      <th>nameDest</th>\n",
       "      <th>oldbalanceDest</th>\n",
       "      <th>newbalanceDest</th>\n",
       "      <th>isFraud</th>\n",
       "      <th>isFlaggedFraud</th>\n",
       "    </tr>\n",
       "  </thead>\n",
       "  <tbody>\n",
       "    <tr>\n",
       "      <th>0</th>\n",
       "      <td>1</td>\n",
       "      <td>3</td>\n",
       "      <td>9839.64</td>\n",
       "      <td>757869</td>\n",
       "      <td>170136.0</td>\n",
       "      <td>160296.36</td>\n",
       "      <td>1662094</td>\n",
       "      <td>0.0</td>\n",
       "      <td>0.0</td>\n",
       "      <td>0</td>\n",
       "      <td>0</td>\n",
       "    </tr>\n",
       "    <tr>\n",
       "      <th>1</th>\n",
       "      <td>1</td>\n",
       "      <td>3</td>\n",
       "      <td>1864.28</td>\n",
       "      <td>2188998</td>\n",
       "      <td>21249.0</td>\n",
       "      <td>19384.72</td>\n",
       "      <td>1733924</td>\n",
       "      <td>0.0</td>\n",
       "      <td>0.0</td>\n",
       "      <td>0</td>\n",
       "      <td>0</td>\n",
       "    </tr>\n",
       "    <tr>\n",
       "      <th>2</th>\n",
       "      <td>1</td>\n",
       "      <td>4</td>\n",
       "      <td>181.00</td>\n",
       "      <td>1002156</td>\n",
       "      <td>181.0</td>\n",
       "      <td>0.00</td>\n",
       "      <td>439685</td>\n",
       "      <td>0.0</td>\n",
       "      <td>0.0</td>\n",
       "      <td>1</td>\n",
       "      <td>0</td>\n",
       "    </tr>\n",
       "    <tr>\n",
       "      <th>3</th>\n",
       "      <td>1</td>\n",
       "      <td>1</td>\n",
       "      <td>181.00</td>\n",
       "      <td>5828262</td>\n",
       "      <td>181.0</td>\n",
       "      <td>0.00</td>\n",
       "      <td>391696</td>\n",
       "      <td>21182.0</td>\n",
       "      <td>0.0</td>\n",
       "      <td>1</td>\n",
       "      <td>0</td>\n",
       "    </tr>\n",
       "    <tr>\n",
       "      <th>4</th>\n",
       "      <td>1</td>\n",
       "      <td>3</td>\n",
       "      <td>11668.14</td>\n",
       "      <td>3445981</td>\n",
       "      <td>41554.0</td>\n",
       "      <td>29885.86</td>\n",
       "      <td>828919</td>\n",
       "      <td>0.0</td>\n",
       "      <td>0.0</td>\n",
       "      <td>0</td>\n",
       "      <td>0</td>\n",
       "    </tr>\n",
       "  </tbody>\n",
       "</table>\n",
       "</div>"
      ],
      "text/plain": [
       "   step  type    amount  nameOrig  oldbalanceOrg  newbalanceOrig  nameDest  \\\n",
       "0     1     3   9839.64    757869       170136.0       160296.36   1662094   \n",
       "1     1     3   1864.28   2188998        21249.0        19384.72   1733924   \n",
       "2     1     4    181.00   1002156          181.0            0.00    439685   \n",
       "3     1     1    181.00   5828262          181.0            0.00    391696   \n",
       "4     1     3  11668.14   3445981        41554.0        29885.86    828919   \n",
       "\n",
       "   oldbalanceDest  newbalanceDest  isFraud  isFlaggedFraud  \n",
       "0             0.0             0.0        0               0  \n",
       "1             0.0             0.0        0               0  \n",
       "2             0.0             0.0        1               0  \n",
       "3         21182.0             0.0        1               0  \n",
       "4             0.0             0.0        0               0  "
      ]
     },
     "execution_count": 9,
     "metadata": {},
     "output_type": "execute_result"
    }
   ],
   "source": [
    "df.head()"
   ]
  },
  {
   "cell_type": "markdown",
   "id": "7efde2ed",
   "metadata": {},
   "source": [
    "__NOW THE REAL HUNT FOR INSIGHTS BEGINS__"
   ]
  },
  {
   "cell_type": "markdown",
   "id": "60fe24d8",
   "metadata": {},
   "source": [
    "***1) Correlation Table***"
   ]
  },
  {
   "cell_type": "code",
   "execution_count": 1,
   "id": "9faa00af",
   "metadata": {},
   "outputs": [
    {
     "ename": "NameError",
     "evalue": "name 'df' is not defined",
     "output_type": "error",
     "traceback": [
      "\u001b[31m---------------------------------------------------------------------------\u001b[39m",
      "\u001b[31mNameError\u001b[39m                                 Traceback (most recent call last)",
      "\u001b[36mCell\u001b[39m\u001b[36m \u001b[39m\u001b[32mIn[1]\u001b[39m\u001b[32m, line 1\u001b[39m\n\u001b[32m----> \u001b[39m\u001b[32m1\u001b[39m cor = \u001b[43mdf\u001b[49m.corr()\n\u001b[32m      2\u001b[39m cor_table = cor[\u001b[33m'\u001b[39m\u001b[33misFraud\u001b[39m\u001b[33m'\u001b[39m].sort_values(ascending=\u001b[38;5;28;01mFalse\u001b[39;00m)\n\u001b[32m      3\u001b[39m \u001b[38;5;28mprint\u001b[39m(cor_table)\n",
      "\u001b[31mNameError\u001b[39m: name 'df' is not defined"
     ]
    }
   ],
   "source": [
    "cor = df.corr()\n",
    "cor_table = cor['isFraud'].sort_values(ascending=False)\n",
    "print(cor_table)"
   ]
  },
  {
   "cell_type": "code",
   "execution_count": 11,
   "id": "d9478a0a",
   "metadata": {},
   "outputs": [
    {
     "data": {
      "image/png": "[encoded data removed]",
      "text/plain": [
       "<Figure size 1000x600 with 1 Axes>"
      ]
     },
     "metadata": {},
     "output_type": "display_data"
    }
   ],
   "source": [
    "plt.figure(figsize=(10, 6))\n",
    "sns.barplot(x=cor_table.index, y=cor_table.values, hue=cor_table.index, palette=\"coolwarm\", legend=False)\n",
    "plt.xticks(rotation=90)\n",
    "plt.ylabel(\"Correlation Coefficient\")\n",
    "plt.title(\"Correlation Table\")\n",
    "plt.show()"
   ]
  },
  {
   "cell_type": "markdown",
   "id": "8c9b6853",
   "metadata": {},
   "source": [
    "***2) Pps Score***"
   ]
  },
  {
   "cell_type": "code",
   "execution_count": 12,
   "id": "7e144aa9",
   "metadata": {},
   "outputs": [
    {
     "name": "stdout",
     "output_type": "stream",
     "text": [
      "['step', 'type', 'amount', 'nameOrig', 'oldbalanceOrg', 'newbalanceOrig', 'nameDest', 'oldbalanceDest', 'newbalanceDest', 'isFlaggedFraud']\n"
     ]
    }
   ],
   "source": [
    "ppsx = [col for col in df.columns if col != 'isFraud']\n",
    "ppsy = 'isFraud'\n",
    "\n",
    "print(ppsx)"
   ]
  },
  {
   "cell_type": "code",
   "execution_count": 13,
   "id": "445f84cb",
   "metadata": {},
   "outputs": [
    {
     "name": "stdout",
     "output_type": "stream",
     "text": [
      "          Feature  PPS\n",
      "0            step    0\n",
      "1            type    0\n",
      "2          amount    0\n",
      "3        nameOrig    0\n",
      "4   oldbalanceOrg    0\n",
      "5  newbalanceOrig    0\n",
      "6        nameDest    0\n",
      "7  oldbalanceDest    0\n",
      "8  newbalanceDest    0\n",
      "9  isFlaggedFraud    0\n"
     ]
    }
   ],
   "source": [
    "pps_scores = {col: pps.score(df, col, 'isFraud')[\"ppscore\"] for col in ppsx}\n",
    "pps_df = pd.DataFrame(pps_scores.items(), columns=['Feature', 'PPS'])\n",
    "print(pps_df.sort_values(by=\"PPS\", ascending= True))"
   ]
  },
  {
   "cell_type": "markdown",
   "id": "5ea762c8",
   "metadata": {},
   "source": [
    "***3) Variance Inflation Factor***"
   ]
  },
  {
   "cell_type": "code",
   "execution_count": 14,
   "id": "ca155d72",
   "metadata": {},
   "outputs": [
    {
     "name": "stdout",
     "output_type": "stream",
     "text": [
      "          Feature         VIF\n",
      "5  newbalanceOrig  468.010508\n",
      "4   oldbalanceOrg  462.607845\n",
      "8  newbalanceDest   75.806088\n",
      "7  oldbalanceDest   65.980405\n",
      "2          amount    3.774661\n",
      "1            type    1.939473\n",
      "6        nameDest    1.675392\n",
      "0            step    1.002531\n",
      "9  isFlaggedFraud    1.000610\n",
      "3        nameOrig    1.000001\n"
     ]
    }
   ],
   "source": [
    "vif_x = ['step', 'type', 'amount', 'nameOrig', 'oldbalanceOrg', 'newbalanceOrig', 'nameDest', 'oldbalanceDest', 'newbalanceDest', 'isFlaggedFraud']\n",
    "\n",
    "dfx = df[vif_x]\n",
    "\n",
    "x_const = add_constant(dfx)\n",
    "vif_data = pd.DataFrame()\n",
    "vif_data[\"Feature\"] = dfx.columns\n",
    "vif_data[\"VIF\"] = [variance_inflation_factor(x_const.values, i + 1) for i in range(len(dfx.columns))]  # +1 because of constant at index 0\n",
    "\n",
    "print(vif_data.sort_values(by=\"VIF\", ascending=False))"
   ]
  },
  {
   "cell_type": "markdown",
   "id": "adbc833f",
   "metadata": {},
   "source": [
    "***4) Mutual Information***"
   ]
  },
  {
   "cell_type": "code",
   "execution_count": 15,
   "id": "7a0bbf7b",
   "metadata": {},
   "outputs": [],
   "source": [
    "mi_x = ['step', 'type', 'amount', 'nameOrig', 'oldbalanceOrg', 'newbalanceOrig', 'nameDest', 'oldbalanceDest', 'newbalanceDest', 'isFlaggedFraud']\n",
    "mi_x = df[mi_x]\n",
    "mi_y = df['isFraud'] "
   ]
  },
  {
   "cell_type": "code",
   "execution_count": 16,
   "id": "381528ef",
   "metadata": {},
   "outputs": [
    {
     "name": "stdout",
     "output_type": "stream",
     "text": [
      "          Feature  MI Score\n",
      "1            type  0.119829\n",
      "0            step  0.010875\n",
      "4   oldbalanceOrg  0.002610\n",
      "2          amount  0.002447\n",
      "6        nameDest  0.000885\n",
      "5  newbalanceOrig  0.000659\n",
      "7  oldbalanceDest  0.000166\n",
      "8  newbalanceDest  0.000099\n",
      "9  isFlaggedFraud  0.000033\n",
      "3        nameOrig  0.000000\n"
     ]
    }
   ],
   "source": [
    "mi_scores = mutual_info_classif(mi_x, mi_y, discrete_features='auto')\n",
    "mi_df = pd.DataFrame({'Feature': mi_x.columns, 'MI Score': mi_scores})\n",
    "print(mi_df.sort_values(by='MI Score', ascending=False))"
   ]
  },
  {
   "cell_type": "markdown",
   "id": "9163ee23",
   "metadata": {},
   "source": [
    "***5) Outlier by Z Score***"
   ]
  },
  {
   "cell_type": "code",
   "execution_count": 17,
   "id": "2b58dbe3",
   "metadata": {},
   "outputs": [],
   "source": [
    "non_fraud = df[df['isFraud'] == 0]\n",
    "fraud = df[df['isFraud'] == 1]\n",
    "\n",
    "z_scores = non_fraud.apply(zscore)\n",
    "filtered_non_fraud = non_fraud[(z_scores < 3).all(axis=1)]\n",
    "df_clean1 = pd.concat([filtered_non_fraud, fraud])"
   ]
  },
  {
   "cell_type": "markdown",
   "id": "066594f9",
   "metadata": {},
   "source": [
    "***6) Outlier by IQR***"
   ]
  },
  {
   "cell_type": "code",
   "execution_count": 18,
   "id": "387b3d58",
   "metadata": {},
   "outputs": [],
   "source": [
    "def remove_outliers_iqr(df, target='isFraud'):\n",
    "    df_no_out = df.copy()\n",
    "    for col in df.select_dtypes(include='number').columns:\n",
    "        if col == target:\n",
    "            continue\n",
    "        Q1 = df_no_out[col].quantile(0.25)\n",
    "        Q3 = df_no_out[col].quantile(0.75)\n",
    "        IQR = Q3 - Q1\n",
    "        lower = Q1 - 1.5 * IQR\n",
    "        upper = Q3 + 1.5 * IQR\n",
    "\n",
    "        mask = ~((df_no_out[target] == 0) & ((df_no_out[col] < lower) | (df_no_out[col] > upper)))\n",
    "        df_no_out = df_no_out[mask]\n",
    "    return df_no_out\n"
   ]
  },
  {
   "cell_type": "markdown",
   "id": "89a37b51",
   "metadata": {},
   "source": [
    "***7) Group Based Analysis on Type Feature***"
   ]
  },
  {
   "cell_type": "code",
   "execution_count": 20,
   "id": "2025a502",
   "metadata": {},
   "outputs": [
    {
     "name": "stdout",
     "output_type": "stream",
     "text": [
      "{'CASH_IN': 0, 'CASH_OUT': 1, 'DEBIT': 2, 'PAYMENT': 3, 'TRANSFER': 4}\n"
     ]
    }
   ],
   "source": [
    "type_mapping = dict(zip(encoders['type'].classes_, encoders['type'].transform(encoders['type'].classes_)))\n",
    "print(type_mapping)"
   ]
  },
  {
   "cell_type": "code",
   "execution_count": 21,
   "id": "8281acb5",
   "metadata": {},
   "outputs": [
    {
     "name": "stderr",
     "output_type": "stream",
     "text": [
      "C:\\Users\\ketan\\AppData\\Local\\Temp\\ipykernel_2132\\2184766859.py:5: FutureWarning: \n",
      "\n",
      "Passing `palette` without assigning `hue` is deprecated and will be removed in v0.14.0. Assign the `x` variable to `hue` and set `legend=False` for the same effect.\n",
      "\n",
      "  sns.barplot(data=fraud_rate_by_type, x='type', y='isFraud', palette='Reds_r')\n"
     ]
    },
    {
     "data": {
      "image/png": "[encoded data removed]",
      "text/plain": [
       "<Figure size 800x500 with 1 Axes>"
      ]
     },
     "metadata": {},
     "output_type": "display_data"
    }
   ],
   "source": [
    "fraud_rate_by_type = df.groupby('type')['isFraud'].mean().sort_values(ascending=False).reset_index()\n",
    "\n",
    "# Plotting\n",
    "plt.figure(figsize=(8, 5))\n",
    "sns.barplot(data=fraud_rate_by_type, x='type', y='isFraud', palette='Reds_r')\n",
    "plt.title(\"Fraud Rate by Transaction Type\")\n",
    "plt.xlabel(\"Transaction Type\")\n",
    "plt.ylabel(\"Fraud Rate\")\n",
    "plt.xticks(rotation=45)\n",
    "plt.tight_layout()\n",
    "plt.show()"
   ]
  },
  {
   "cell_type": "markdown",
   "id": "27688168",
   "metadata": {},
   "source": [
    "***7) Group Based Analysis on Step Feature***"
   ]
  },
  {
   "cell_type": "code",
   "execution_count": 22,
   "id": "b1bc5e79",
   "metadata": {},
   "outputs": [],
   "source": [
    "totalsteps = len(df['step'].value_counts())\n",
    "total1 = len(df[df['isFraud'] == 1])"
   ]
  },
  {
   "cell_type": "code",
   "execution_count": 23,
   "id": "cda7a8e8",
   "metadata": {},
   "outputs": [
    {
     "data": {
      "application/vnd.microsoft.datawrangler.viewer.v0+json": {
       "columns": [
        {
         "name": "index",
         "rawType": "int64",
         "type": "integer"
        },
        {
         "name": "step",
         "rawType": "int64",
         "type": "integer"
        },
        {
         "name": "count",
         "rawType": "int64",
         "type": "integer"
        }
       ],
       "conversionMethod": "pd.DataFrame",
       "ref": "e7a2d794-d3eb-4faf-89d0-6f048baccc76",
       "rows": [
        [
         "0",
         "212",
         "40"
        ],
        [
         "1",
         "523",
         "30"
        ],
        [
         "2",
         "501",
         "28"
        ],
        [
         "3",
         "387",
         "28"
        ],
        [
         "4",
         "425",
         "28"
        ],
        [
         "5",
         "730",
         "28"
        ],
        [
         "6",
         "249",
         "28"
        ],
        [
         "7",
         "160",
         "26"
        ],
        [
         "8",
         "398",
         "26"
        ],
        [
         "9",
         "66",
         "24"
        ],
        [
         "10",
         "406",
         "24"
        ],
        [
         "11",
         "694",
         "24"
        ],
        [
         "12",
         "625",
         "24"
        ],
        [
         "13",
         "22",
         "23"
        ],
        [
         "14",
         "6",
         "22"
        ],
        [
         "15",
         "741",
         "22"
        ],
        [
         "16",
         "680",
         "22"
        ],
        [
         "17",
         "262",
         "22"
        ],
        [
         "18",
         "74",
         "22"
        ],
        [
         "19",
         "296",
         "22"
        ],
        [
         "20",
         "726",
         "22"
        ],
        [
         "21",
         "149",
         "22"
        ],
        [
         "22",
         "250",
         "22"
        ],
        [
         "23",
         "34",
         "22"
        ],
        [
         "24",
         "279",
         "22"
        ],
        [
         "25",
         "208",
         "21"
        ],
        [
         "26",
         "47",
         "21"
        ],
        [
         "27",
         "69",
         "20"
        ],
        [
         "28",
         "444",
         "20"
        ],
        [
         "29",
         "71",
         "20"
        ],
        [
         "30",
         "578",
         "20"
        ],
        [
         "31",
         "362",
         "20"
        ],
        [
         "32",
         "613",
         "20"
        ],
        [
         "33",
         "497",
         "20"
        ],
        [
         "34",
         "646",
         "20"
        ],
        [
         "35",
         "317",
         "20"
        ],
        [
         "36",
         "664",
         "20"
        ],
        [
         "37",
         "58",
         "20"
        ],
        [
         "38",
         "65",
         "20"
        ],
        [
         "39",
         "261",
         "20"
        ],
        [
         "40",
         "274",
         "20"
        ],
        [
         "41",
         "59",
         "20"
        ],
        [
         "42",
         "557",
         "20"
        ],
        [
         "43",
         "629",
         "20"
        ],
        [
         "44",
         "273",
         "20"
        ],
        [
         "45",
         "692",
         "20"
        ],
        [
         "46",
         "410",
         "20"
        ],
        [
         "47",
         "15",
         "20"
        ],
        [
         "48",
         "409",
         "20"
        ],
        [
         "49",
         "9",
         "19"
        ]
       ],
       "shape": {
        "columns": 2,
        "rows": 326
       }
      },
      "text/html": [
       "<div>\n",
       "<style scoped>\n",
       "    .dataframe tbody tr th:only-of-type {\n",
       "        vertical-align: middle;\n",
       "    }\n",
       "\n",
       "    .dataframe tbody tr th {\n",
       "        vertical-align: top;\n",
       "    }\n",
       "\n",
       "    .dataframe thead th {\n",
       "        text-align: right;\n",
       "    }\n",
       "</style>\n",
       "<table border=\"1\" class=\"dataframe\">\n",
       "  <thead>\n",
       "    <tr style=\"text-align: right;\">\n",
       "      <th></th>\n",
       "      <th>step</th>\n",
       "      <th>count</th>\n",
       "    </tr>\n",
       "  </thead>\n",
       "  <tbody>\n",
       "    <tr>\n",
       "      <th>0</th>\n",
       "      <td>212</td>\n",
       "      <td>40</td>\n",
       "    </tr>\n",
       "    <tr>\n",
       "      <th>1</th>\n",
       "      <td>523</td>\n",
       "      <td>30</td>\n",
       "    </tr>\n",
       "    <tr>\n",
       "      <th>2</th>\n",
       "      <td>501</td>\n",
       "      <td>28</td>\n",
       "    </tr>\n",
       "    <tr>\n",
       "      <th>3</th>\n",
       "      <td>387</td>\n",
       "      <td>28</td>\n",
       "    </tr>\n",
       "    <tr>\n",
       "      <th>4</th>\n",
       "      <td>425</td>\n",
       "      <td>28</td>\n",
       "    </tr>\n",
       "    <tr>\n",
       "      <th>...</th>\n",
       "      <td>...</td>\n",
       "      <td>...</td>\n",
       "    </tr>\n",
       "    <tr>\n",
       "      <th>321</th>\n",
       "      <td>579</td>\n",
       "      <td>12</td>\n",
       "    </tr>\n",
       "    <tr>\n",
       "      <th>322</th>\n",
       "      <td>206</td>\n",
       "      <td>12</td>\n",
       "    </tr>\n",
       "    <tr>\n",
       "      <th>323</th>\n",
       "      <td>577</td>\n",
       "      <td>12</td>\n",
       "    </tr>\n",
       "    <tr>\n",
       "      <th>324</th>\n",
       "      <td>214</td>\n",
       "      <td>12</td>\n",
       "    </tr>\n",
       "    <tr>\n",
       "      <th>325</th>\n",
       "      <td>198</td>\n",
       "      <td>12</td>\n",
       "    </tr>\n",
       "  </tbody>\n",
       "</table>\n",
       "<p>326 rows × 2 columns</p>\n",
       "</div>"
      ],
      "text/plain": [
       "     step  count\n",
       "0     212     40\n",
       "1     523     30\n",
       "2     501     28\n",
       "3     387     28\n",
       "4     425     28\n",
       "..    ...    ...\n",
       "321   579     12\n",
       "322   206     12\n",
       "323   577     12\n",
       "324   214     12\n",
       "325   198     12\n",
       "\n",
       "[326 rows x 2 columns]"
      ]
     },
     "execution_count": 23,
     "metadata": {},
     "output_type": "execute_result"
    }
   ],
   "source": [
    "fraud_count_by_step = df[df['isFraud'] == 1].groupby('step').size().reset_index(name='count')\n",
    "average_fraud_count = fraud_count_by_step['count'].mean()\n",
    "above_avg_fraud = fraud_count_by_step[fraud_count_by_step['count'] > average_fraud_count]\n",
    "above_avg_fraud = above_avg_fraud.sort_values(by='count', ascending=False).reset_index(drop=True)\n",
    "above_avg_fraud.head(326)"
   ]
  },
  {
   "cell_type": "code",
   "execution_count": 24,
   "id": "ae05d24c",
   "metadata": {},
   "outputs": [
    {
     "data": {
      "image/png": "[encoded data removed]",
      "text/plain": [
       "<Figure size 1000x400 with 1 Axes>"
      ]
     },
     "metadata": {},
     "output_type": "display_data"
    }
   ],
   "source": [
    "total_count = above_avg_fraud['count'].sum()\n",
    "fraud_counts = [total1 - total_count, total_count]\n",
    "step_counts = [totalsteps - 326, 326]\n",
    "labels = [\n",
    "    f\"{total1 - total_count} frauds in {totalsteps - 326} steps \",\n",
    "    f\"{total_count} frauds in 326 steps\"\n",
    "]\n",
    "colors = ['lightgray', 'crimson']\n",
    "\n",
    "# Plot\n",
    "plt.figure(figsize=(10, 4))\n",
    "bars = plt.barh(labels, fraud_counts, color=colors)\n",
    "\n",
    "# Annotate\n",
    "for bar in bars:\n",
    "    width = bar.get_width()\n",
    "    plt.text(width + 500, bar.get_y() + bar.get_height()/2,\n",
    "             f\"{width}\", va='center', fontweight='bold')\n",
    "\n",
    "plt.title(\"Concentration of Fraudulent Transactions by Step Risk\\nwhere 326 steps have fraud rate greater than the average fraud rate over whole month\")\n",
    "plt.xlabel(\"Number of Frauds\")\n",
    "plt.tight_layout()\n",
    "plt.grid(axis='x')\n",
    "plt.show()"
   ]
  },
  {
   "cell_type": "markdown",
   "id": "c2d0ff26",
   "metadata": {},
   "source": [
    "***8) Group Based Analysis on Amount***"
   ]
  },
  {
   "cell_type": "code",
   "execution_count": 26,
   "id": "8b137ba5",
   "metadata": {},
   "outputs": [
    {
     "name": "stderr",
     "output_type": "stream",
     "text": [
      "C:\\Users\\ketan\\AppData\\Local\\Temp\\ipykernel_2132\\3862166196.py:8: SettingWithCopyWarning: \n",
      "A value is trying to be set on a copy of a slice from a DataFrame.\n",
      "Try using .loc[row_indexer,col_indexer] = value instead\n",
      "\n",
      "See the caveats in the documentation: https://pandas.pydata.org/pandas-docs/stable/user_guide/indexing.html#returning-a-view-versus-a-copy\n",
      "  fraud_df['mid_amount_range'] = pd.cut(fraud_df['amount'], bins=bin_edges_1to10M, labels=labels_1to10M, right=False)\n"
     ]
    },
    {
     "data": {
      "image/png": "[encoded data removed]",
      "text/plain": [
       "<Figure size 1600x600 with 1 Axes>"
      ]
     },
     "metadata": {},
     "output_type": "display_data"
    }
   ],
   "source": [
    "fraud_df = df[df['isFraud'] == 1]\n",
    "bin_edges_1to10M = np.linspace(1_000_000, 10_000_000, 21)\n",
    "labels_1to10M = [f\"{int(bin_edges_1to10M[i]/1e6)}M-{int(bin_edges_1to10M[i+1]/1e6)}M\"\n",
    "                 if bin_edges_1to10M[i+1] % 1e6 == 0\n",
    "                 else f\"{int(bin_edges_1to10M[i]/1e6)}M-{round(bin_edges_1to10M[i+1]/1e6,1)}M\"\n",
    "                 for i in range(len(bin_edges_1to10M)-1)]\n",
    "\n",
    "fraud_df['mid_amount_range'] = pd.cut(fraud_df['amount'], bins=bin_edges_1to10M, labels=labels_1to10M, right=False)\n",
    "\n",
    "mid_range_counts_df = fraud_df['mid_amount_range'].value_counts().sort_index().reset_index()\n",
    "mid_range_counts_df.columns = ['Amount Range', 'Fraud Count']\n",
    "\n",
    "plt.figure(figsize=(16, 6))\n",
    "sns.barplot(data=mid_range_counts_df, x='Amount Range', y='Fraud Count', hue='Amount Range', palette=\"rocket\", legend=False)\n",
    "\n",
    "for i, count in enumerate(mid_range_counts_df['Fraud Count']):\n",
    "    plt.text(i, count + 5, str(count), ha='center', fontsize=8)\n",
    "\n",
    "# Labels and formatting\n",
    "plt.title(\"Fraudulent Transaction Count in 1M–10M Range (20 Bins)\", fontsize=14)\n",
    "plt.xlabel(\"Transaction Amount Range\", fontsize=12)\n",
    "plt.ylabel(\"Fraud Count\", fontsize=12)\n",
    "plt.xticks(rotation=45, ha='right')\n",
    "plt.grid(axis='y', linestyle='--', alpha=0.5)\n",
    "plt.tight_layout()\n",
    "plt.show()\n"
   ]
  },
  {
   "cell_type": "code",
   "execution_count": 27,
   "id": "29549d15",
   "metadata": {},
   "outputs": [
    {
     "name": "stderr",
     "output_type": "stream",
     "text": [
      "C:\\Users\\ketan\\AppData\\Local\\Temp\\ipykernel_2132\\3368021652.py:4: SettingWithCopyWarning: \n",
      "A value is trying to be set on a copy of a slice from a DataFrame.\n",
      "Try using .loc[row_indexer,col_indexer] = value instead\n",
      "\n",
      "See the caveats in the documentation: https://pandas.pydata.org/pandas-docs/stable/user_guide/indexing.html#returning-a-view-versus-a-copy\n",
      "  fraud_df['low_amount_range'] = pd.cut(fraud_df['amount'], bins=bin_edges, labels=labels, right=False)\n"
     ]
    },
    {
     "data": {
      "image/png": "[encoded data removed]",
      "text/plain": [
       "<Figure size 1600x600 with 1 Axes>"
      ]
     },
     "metadata": {},
     "output_type": "display_data"
    }
   ],
   "source": [
    "bin_edges = np.linspace(0, 1_000_000, 21)  # 21 edges = 20 bins\n",
    "labels = [f\"{int(bin_edges[i]/1000)}K–{int(bin_edges[i+1]/1000)}K\" for i in range(len(bin_edges)-1)]\n",
    "\n",
    "fraud_df['low_amount_range'] = pd.cut(fraud_df['amount'], bins=bin_edges, labels=labels, right=False)\n",
    "\n",
    "low_range_counts_df = fraud_df['low_amount_range'].value_counts().sort_index().reset_index()\n",
    "low_range_counts_df.columns = ['Amount Range', 'Fraud Count']\n",
    "\n",
    "plt.figure(figsize=(16, 6))\n",
    "sns.barplot(data=low_range_counts_df, x='Amount Range', y='Fraud Count', hue='Amount Range', palette=\"rocket\", legend=False)\n",
    "\n",
    "for i, count in enumerate(low_range_counts_df['Fraud Count']):\n",
    "    plt.text(i, count + 5, str(count), ha='center', fontsize=8)\n",
    "\n",
    "# Labels and formatting\n",
    "plt.title(\"Fraudulent Transaction Count in 0–1M Range (20 Bins)\", fontsize=14)\n",
    "plt.xlabel(\"Transaction Amount Range\", fontsize=12)\n",
    "plt.ylabel(\"Fraud Count\", fontsize=12)\n",
    "plt.xticks(rotation=45, ha='right')\n",
    "plt.grid(axis='y', linestyle='--', alpha=0.5)\n",
    "plt.tight_layout()\n",
    "plt.show()"
   ]
  },
  {
   "cell_type": "code",
   "execution_count": 28,
   "id": "394722ec",
   "metadata": {},
   "outputs": [
    {
     "data": {
      "image/png": "[encoded data removed]",
      "text/plain": [
       "<Figure size 1200x600 with 1 Axes>"
      ]
     },
     "metadata": {},
     "output_type": "display_data"
    }
   ],
   "source": [
    "df['log_amount'] = np.log1p(df['amount'])  # log(1 + amount) to avoid log(0)\n",
    "\n",
    "plt.figure(figsize=(12, 6))\n",
    "sns.kdeplot(data=df[df['isFraud'] == 1], x='log_amount', label='Fraud', fill=True, color='red')\n",
    "plt.title(\"Log-Transformed Amount Distribution by Fraud Status\")\n",
    "plt.xlabel(\"log(1 + Amount)\")\n",
    "plt.ylabel(\"Density\")\n",
    "plt.legend()\n",
    "plt.grid(True)\n",
    "plt.tight_layout()\n",
    "plt.show()"
   ]
  },
  {
   "cell_type": "code",
   "execution_count": 34,
   "id": "d430e093",
   "metadata": {},
   "outputs": [
    {
     "name": "stdout",
     "output_type": "stream",
     "text": [
      "     Amount Range  Fraud Count\n",
      "0   10000K–10010K          287\n",
      "1          0K–10K          278\n",
      "2         20K–30K          211\n",
      "3         10K–20K          188\n",
      "4         30K–40K          181\n",
      "5         40K–50K          180\n",
      "6         70K–80K          158\n",
      "7         50K–60K          148\n",
      "8       100K–110K          132\n",
      "9         60K–70K          126\n",
      "10      120K–130K          126\n",
      "11        80K–90K          125\n",
      "12      110K–120K          124\n",
      "13      170K–180K          116\n",
      "14      140K–150K          115\n",
      "15       90K–100K          112\n",
      "16      150K–160K          106\n"
     ]
    }
   ],
   "source": [
    "bin_edges = np.arange(0, 13_000_000 + 10_000, 10_000)\n",
    "labels = [f\"{int(start/1000)}K–{int(end/1000)}K\" for start, end in zip(bin_edges[:-1], bin_edges[1:])]\n",
    "\n",
    "fraud_df = df[df['isFraud'] == 1].copy()\n",
    "\n",
    "fraud_df['amount_range'] = pd.cut(fraud_df['amount'], bins=bin_edges, labels=labels, right=False)\n",
    "\n",
    "range_counts = fraud_df['amount_range'].value_counts().sort_values(ascending=False).reset_index()\n",
    "range_counts.columns = ['Amount Range', 'Fraud Count']\n",
    "\n",
    "# Display the sorted ranges\n",
    "print(range_counts.head(17))"
   ]
  },
  {
   "cell_type": "markdown",
   "id": "7be05a3f",
   "metadata": {},
   "source": [
    "***9) Group Based Analysis On NameDest***"
   ]
  },
  {
   "cell_type": "code",
   "execution_count": 36,
   "id": "e2281ff0",
   "metadata": {},
   "outputs": [
    {
     "data": {
      "text/plain": [
       "2722362"
      ]
     },
     "execution_count": 36,
     "metadata": {},
     "output_type": "execute_result"
    }
   ],
   "source": [
    "len(df['nameDest'].value_counts())"
   ]
  },
  {
   "cell_type": "code",
   "execution_count": 39,
   "id": "1b804987",
   "metadata": {},
   "outputs": [
    {
     "data": {
      "application/vnd.microsoft.datawrangler.viewer.v0+json": {
       "columns": [
        {
         "name": "index",
         "rawType": "int64",
         "type": "integer"
        },
        {
         "name": "nameDest",
         "rawType": "int32",
         "type": "integer"
        },
        {
         "name": "Fraud Count",
         "rawType": "int64",
         "type": "integer"
        }
       ],
       "conversionMethod": "pd.DataFrame",
       "ref": "9685a6fb-09f8-4062-ae0f-7bcc56ab48f1",
       "rows": [
        [
         "0",
         "57504",
         "2"
        ],
        [
         "1",
         "11957",
         "2"
        ],
        [
         "2",
         "296180",
         "2"
        ],
        [
         "3",
         "147473",
         "2"
        ],
        [
         "4",
         "178026",
         "2"
        ],
        [
         "5",
         "193961",
         "2"
        ],
        [
         "6",
         "301992",
         "2"
        ],
        [
         "7",
         "193439",
         "2"
        ],
        [
         "8",
         "4005",
         "2"
        ],
        [
         "9",
         "334402",
         "2"
        ],
        [
         "10",
         "108539",
         "2"
        ],
        [
         "11",
         "55009",
         "2"
        ],
        [
         "12",
         "473457",
         "2"
        ],
        [
         "13",
         "247794",
         "2"
        ],
        [
         "14",
         "44048",
         "2"
        ],
        [
         "15",
         "543863",
         "2"
        ],
        [
         "16",
         "96328",
         "2"
        ],
        [
         "17",
         "122565",
         "2"
        ],
        [
         "18",
         "244883",
         "2"
        ],
        [
         "19",
         "198189",
         "2"
        ],
        [
         "20",
         "466408",
         "2"
        ],
        [
         "21",
         "553034",
         "2"
        ],
        [
         "22",
         "425624",
         "2"
        ],
        [
         "23",
         "118434",
         "2"
        ],
        [
         "24",
         "431056",
         "2"
        ],
        [
         "25",
         "290228",
         "2"
        ],
        [
         "26",
         "136628",
         "2"
        ],
        [
         "27",
         "561398",
         "2"
        ],
        [
         "28",
         "478936",
         "2"
        ],
        [
         "29",
         "194394",
         "2"
        ],
        [
         "30",
         "562260",
         "2"
        ],
        [
         "31",
         "230857",
         "2"
        ],
        [
         "32",
         "390242",
         "2"
        ],
        [
         "33",
         "192625",
         "2"
        ],
        [
         "34",
         "253941",
         "2"
        ],
        [
         "35",
         "416882",
         "2"
        ],
        [
         "36",
         "290525",
         "2"
        ],
        [
         "37",
         "513758",
         "2"
        ],
        [
         "38",
         "466269",
         "2"
        ],
        [
         "39",
         "76709",
         "2"
        ],
        [
         "40",
         "397563",
         "2"
        ],
        [
         "41",
         "16764",
         "2"
        ],
        [
         "42",
         "245062",
         "2"
        ],
        [
         "43",
         "468311",
         "2"
        ]
       ],
       "shape": {
        "columns": 2,
        "rows": 44
       }
      },
      "text/html": [
       "<div>\n",
       "<style scoped>\n",
       "    .dataframe tbody tr th:only-of-type {\n",
       "        vertical-align: middle;\n",
       "    }\n",
       "\n",
       "    .dataframe tbody tr th {\n",
       "        vertical-align: top;\n",
       "    }\n",
       "\n",
       "    .dataframe thead th {\n",
       "        text-align: right;\n",
       "    }\n",
       "</style>\n",
       "<table border=\"1\" class=\"dataframe\">\n",
       "  <thead>\n",
       "    <tr style=\"text-align: right;\">\n",
       "      <th></th>\n",
       "      <th>nameDest</th>\n",
       "      <th>Fraud Count</th>\n",
       "    </tr>\n",
       "  </thead>\n",
       "  <tbody>\n",
       "    <tr>\n",
       "      <th>0</th>\n",
       "      <td>57504</td>\n",
       "      <td>2</td>\n",
       "    </tr>\n",
       "    <tr>\n",
       "      <th>1</th>\n",
       "      <td>11957</td>\n",
       "      <td>2</td>\n",
       "    </tr>\n",
       "    <tr>\n",
       "      <th>2</th>\n",
       "      <td>296180</td>\n",
       "      <td>2</td>\n",
       "    </tr>\n",
       "    <tr>\n",
       "      <th>3</th>\n",
       "      <td>147473</td>\n",
       "      <td>2</td>\n",
       "    </tr>\n",
       "    <tr>\n",
       "      <th>4</th>\n",
       "      <td>178026</td>\n",
       "      <td>2</td>\n",
       "    </tr>\n",
       "    <tr>\n",
       "      <th>5</th>\n",
       "      <td>193961</td>\n",
       "      <td>2</td>\n",
       "    </tr>\n",
       "    <tr>\n",
       "      <th>6</th>\n",
       "      <td>301992</td>\n",
       "      <td>2</td>\n",
       "    </tr>\n",
       "    <tr>\n",
       "      <th>7</th>\n",
       "      <td>193439</td>\n",
       "      <td>2</td>\n",
       "    </tr>\n",
       "    <tr>\n",
       "      <th>8</th>\n",
       "      <td>4005</td>\n",
       "      <td>2</td>\n",
       "    </tr>\n",
       "    <tr>\n",
       "      <th>9</th>\n",
       "      <td>334402</td>\n",
       "      <td>2</td>\n",
       "    </tr>\n",
       "    <tr>\n",
       "      <th>10</th>\n",
       "      <td>108539</td>\n",
       "      <td>2</td>\n",
       "    </tr>\n",
       "    <tr>\n",
       "      <th>11</th>\n",
       "      <td>55009</td>\n",
       "      <td>2</td>\n",
       "    </tr>\n",
       "    <tr>\n",
       "      <th>12</th>\n",
       "      <td>473457</td>\n",
       "      <td>2</td>\n",
       "    </tr>\n",
       "    <tr>\n",
       "      <th>13</th>\n",
       "      <td>247794</td>\n",
       "      <td>2</td>\n",
       "    </tr>\n",
       "    <tr>\n",
       "      <th>14</th>\n",
       "      <td>44048</td>\n",
       "      <td>2</td>\n",
       "    </tr>\n",
       "    <tr>\n",
       "      <th>15</th>\n",
       "      <td>543863</td>\n",
       "      <td>2</td>\n",
       "    </tr>\n",
       "    <tr>\n",
       "      <th>16</th>\n",
       "      <td>96328</td>\n",
       "      <td>2</td>\n",
       "    </tr>\n",
       "    <tr>\n",
       "      <th>17</th>\n",
       "      <td>122565</td>\n",
       "      <td>2</td>\n",
       "    </tr>\n",
       "    <tr>\n",
       "      <th>18</th>\n",
       "      <td>244883</td>\n",
       "      <td>2</td>\n",
       "    </tr>\n",
       "    <tr>\n",
       "      <th>19</th>\n",
       "      <td>198189</td>\n",
       "      <td>2</td>\n",
       "    </tr>\n",
       "    <tr>\n",
       "      <th>20</th>\n",
       "      <td>466408</td>\n",
       "      <td>2</td>\n",
       "    </tr>\n",
       "    <tr>\n",
       "      <th>21</th>\n",
       "      <td>553034</td>\n",
       "      <td>2</td>\n",
       "    </tr>\n",
       "    <tr>\n",
       "      <th>22</th>\n",
       "      <td>425624</td>\n",
       "      <td>2</td>\n",
       "    </tr>\n",
       "    <tr>\n",
       "      <th>23</th>\n",
       "      <td>118434</td>\n",
       "      <td>2</td>\n",
       "    </tr>\n",
       "    <tr>\n",
       "      <th>24</th>\n",
       "      <td>431056</td>\n",
       "      <td>2</td>\n",
       "    </tr>\n",
       "    <tr>\n",
       "      <th>25</th>\n",
       "      <td>290228</td>\n",
       "      <td>2</td>\n",
       "    </tr>\n",
       "    <tr>\n",
       "      <th>26</th>\n",
       "      <td>136628</td>\n",
       "      <td>2</td>\n",
       "    </tr>\n",
       "    <tr>\n",
       "      <th>27</th>\n",
       "      <td>561398</td>\n",
       "      <td>2</td>\n",
       "    </tr>\n",
       "    <tr>\n",
       "      <th>28</th>\n",
       "      <td>478936</td>\n",
       "      <td>2</td>\n",
       "    </tr>\n",
       "    <tr>\n",
       "      <th>29</th>\n",
       "      <td>194394</td>\n",
       "      <td>2</td>\n",
       "    </tr>\n",
       "    <tr>\n",
       "      <th>30</th>\n",
       "      <td>562260</td>\n",
       "      <td>2</td>\n",
       "    </tr>\n",
       "    <tr>\n",
       "      <th>31</th>\n",
       "      <td>230857</td>\n",
       "      <td>2</td>\n",
       "    </tr>\n",
       "    <tr>\n",
       "      <th>32</th>\n",
       "      <td>390242</td>\n",
       "      <td>2</td>\n",
       "    </tr>\n",
       "    <tr>\n",
       "      <th>33</th>\n",
       "      <td>192625</td>\n",
       "      <td>2</td>\n",
       "    </tr>\n",
       "    <tr>\n",
       "      <th>34</th>\n",
       "      <td>253941</td>\n",
       "      <td>2</td>\n",
       "    </tr>\n",
       "    <tr>\n",
       "      <th>35</th>\n",
       "      <td>416882</td>\n",
       "      <td>2</td>\n",
       "    </tr>\n",
       "    <tr>\n",
       "      <th>36</th>\n",
       "      <td>290525</td>\n",
       "      <td>2</td>\n",
       "    </tr>\n",
       "    <tr>\n",
       "      <th>37</th>\n",
       "      <td>513758</td>\n",
       "      <td>2</td>\n",
       "    </tr>\n",
       "    <tr>\n",
       "      <th>38</th>\n",
       "      <td>466269</td>\n",
       "      <td>2</td>\n",
       "    </tr>\n",
       "    <tr>\n",
       "      <th>39</th>\n",
       "      <td>76709</td>\n",
       "      <td>2</td>\n",
       "    </tr>\n",
       "    <tr>\n",
       "      <th>40</th>\n",
       "      <td>397563</td>\n",
       "      <td>2</td>\n",
       "    </tr>\n",
       "    <tr>\n",
       "      <th>41</th>\n",
       "      <td>16764</td>\n",
       "      <td>2</td>\n",
       "    </tr>\n",
       "    <tr>\n",
       "      <th>42</th>\n",
       "      <td>245062</td>\n",
       "      <td>2</td>\n",
       "    </tr>\n",
       "    <tr>\n",
       "      <th>43</th>\n",
       "      <td>468311</td>\n",
       "      <td>2</td>\n",
       "    </tr>\n",
       "  </tbody>\n",
       "</table>\n",
       "</div>"
      ],
      "text/plain": [
       "    nameDest  Fraud Count\n",
       "0      57504            2\n",
       "1      11957            2\n",
       "2     296180            2\n",
       "3     147473            2\n",
       "4     178026            2\n",
       "5     193961            2\n",
       "6     301992            2\n",
       "7     193439            2\n",
       "8       4005            2\n",
       "9     334402            2\n",
       "10    108539            2\n",
       "11     55009            2\n",
       "12    473457            2\n",
       "13    247794            2\n",
       "14     44048            2\n",
       "15    543863            2\n",
       "16     96328            2\n",
       "17    122565            2\n",
       "18    244883            2\n",
       "19    198189            2\n",
       "20    466408            2\n",
       "21    553034            2\n",
       "22    425624            2\n",
       "23    118434            2\n",
       "24    431056            2\n",
       "25    290228            2\n",
       "26    136628            2\n",
       "27    561398            2\n",
       "28    478936            2\n",
       "29    194394            2\n",
       "30    562260            2\n",
       "31    230857            2\n",
       "32    390242            2\n",
       "33    192625            2\n",
       "34    253941            2\n",
       "35    416882            2\n",
       "36    290525            2\n",
       "37    513758            2\n",
       "38    466269            2\n",
       "39     76709            2\n",
       "40    397563            2\n",
       "41     16764            2\n",
       "42    245062            2\n",
       "43    468311            2"
      ]
     },
     "execution_count": 39,
     "metadata": {},
     "output_type": "execute_result"
    }
   ],
   "source": [
    "fraud_df = df[df['isFraud'] == 1]\n",
    "\n",
    "fraud_count_by_nameDest = fraud_df['nameDest'].value_counts().reset_index()\n",
    "fraud_count_by_nameDest.columns = ['nameDest', 'Fraud Count']\n",
    "\n",
    "fraud_count_by_nameDest[fraud_count_by_nameDest['Fraud Count'] == 2]"
   ]
  },
  {
   "cell_type": "markdown",
   "id": "66f5a07e",
   "metadata": {},
   "source": [
    "__FEATURE ENGINEERING__"
   ]
  },
  {
   "cell_type": "code",
   "execution_count": 40,
   "id": "b3c15fa6",
   "metadata": {},
   "outputs": [
    {
     "data": {
      "text/plain": [
       "Index(['step', 'type', 'amount', 'nameOrig', 'oldbalanceOrg', 'newbalanceOrig',\n",
       "       'nameDest', 'oldbalanceDest', 'newbalanceDest', 'isFraud',\n",
       "       'isFlaggedFraud', 'log_amount'],\n",
       "      dtype='object')"
      ]
     },
     "execution_count": 40,
     "metadata": {},
     "output_type": "execute_result"
    }
   ],
   "source": [
    "df.columns"
   ]
  },
  {
   "cell_type": "code",
   "execution_count": 41,
   "id": "ab0261e7",
   "metadata": {},
   "outputs": [],
   "source": [
    "df['new_net_bal'] = df['newbalanceDest'] - df['newbalanceOrig']\n",
    "df['old_net_bal'] = df['oldbalanceDest'] - df['oldbalanceOrg']"
   ]
  },
  {
   "cell_type": "code",
   "execution_count": 42,
   "id": "3ce29fae",
   "metadata": {},
   "outputs": [
    {
     "data": {
      "text/plain": [
       "Index(['step', 'type', 'amount', 'nameOrig', 'oldbalanceOrg', 'newbalanceOrig',\n",
       "       'nameDest', 'oldbalanceDest', 'newbalanceDest', 'isFraud',\n",
       "       'isFlaggedFraud', 'log_amount', 'new_net_bal', 'old_net_bal'],\n",
       "      dtype='object')"
      ]
     },
     "execution_count": 42,
     "metadata": {},
     "output_type": "execute_result"
    }
   ],
   "source": [
    "df.columns"
   ]
  },
  {
   "cell_type": "code",
   "execution_count": 43,
   "id": "fdb845df",
   "metadata": {},
   "outputs": [
    {
     "data": {
      "text/plain": [
       "Index(['step', 'type', 'amount', 'nameOrig', 'isFraud', 'isFlaggedFraud',\n",
       "       'log_amount', 'new_net_bal', 'old_net_bal'],\n",
       "      dtype='object')"
      ]
     },
     "execution_count": 43,
     "metadata": {},
     "output_type": "execute_result"
    }
   ],
   "source": [
    "df.drop(columns=['oldbalanceOrg', 'newbalanceOrig', 'nameDest', 'oldbalanceDest', 'newbalanceDest'], inplace=True)\n",
    "df.columns"
   ]
  },
  {
   "cell_type": "code",
   "execution_count": 44,
   "id": "9557f030",
   "metadata": {},
   "outputs": [
    {
     "data": {
      "application/vnd.microsoft.datawrangler.viewer.v0+json": {
       "columns": [
        {
         "name": "index",
         "rawType": "int64",
         "type": "integer"
        },
        {
         "name": "step",
         "rawType": "int64",
         "type": "integer"
        },
        {
         "name": "type",
         "rawType": "int32",
         "type": "integer"
        },
        {
         "name": "amount",
         "rawType": "float64",
         "type": "float"
        },
        {
         "name": "nameOrig",
         "rawType": "int32",
         "type": "integer"
        },
        {
         "name": "isFraud",
         "rawType": "int64",
         "type": "integer"
        },
        {
         "name": "isFlaggedFraud",
         "rawType": "int64",
         "type": "integer"
        },
        {
         "name": "log_amount",
         "rawType": "float64",
         "type": "float"
        },
        {
         "name": "new_net_bal",
         "rawType": "float64",
         "type": "float"
        },
        {
         "name": "old_net_bal",
         "rawType": "float64",
         "type": "float"
        }
       ],
       "conversionMethod": "pd.DataFrame",
       "ref": "fd982b0f-afa3-4f83-abc5-420711ef5f93",
       "rows": [
        [
         "0",
         "1",
         "3",
         "9839.64",
         "757869",
         "0",
         "0",
         "9.194276028581655",
         "-160296.36",
         "-170136.0"
        ],
        [
         "1",
         "1",
         "3",
         "1864.28",
         "2188998",
         "0",
         "0",
         "7.531166454857185",
         "-19384.72",
         "-21249.0"
        ],
        [
         "2",
         "1",
         "4",
         "181.0",
         "1002156",
         "1",
         "0",
         "5.204006687076795",
         "0.0",
         "-181.0"
        ],
        [
         "3",
         "1",
         "1",
         "181.0",
         "5828262",
         "1",
         "0",
         "5.204006687076795",
         "0.0",
         "21001.0"
        ],
        [
         "4",
         "1",
         "3",
         "11668.14",
         "3445981",
         "0",
         "0",
         "9.364703029334617",
         "-29885.86",
         "-41554.0"
        ],
        [
         "5",
         "1",
         "3",
         "7817.71",
         "6026525",
         "0",
         "0",
         "8.96427485829486",
         "-46042.29",
         "-53860.0"
        ],
        [
         "6",
         "1",
         "3",
         "7107.77",
         "1805947",
         "0",
         "0",
         "8.8690845120512",
         "-176087.23",
         "-183195.0"
        ],
        [
         "7",
         "1",
         "3",
         "7861.64",
         "2999171",
         "0",
         "0",
         "8.969877706891506",
         "-168225.59",
         "-176087.23"
        ],
        [
         "8",
         "1",
         "3",
         "4024.36",
         "869140",
         "0",
         "0",
         "8.300369626846845",
         "0.0",
         "-2671.0"
        ],
        [
         "9",
         "1",
         "2",
         "5337.77",
         "5407276",
         "0",
         "0",
         "8.58275056834393",
         "3966.5599999999977",
         "178.0"
        ]
       ],
       "shape": {
        "columns": 9,
        "rows": 10
       }
      },
      "text/html": [
       "<div>\n",
       "<style scoped>\n",
       "    .dataframe tbody tr th:only-of-type {\n",
       "        vertical-align: middle;\n",
       "    }\n",
       "\n",
       "    .dataframe tbody tr th {\n",
       "        vertical-align: top;\n",
       "    }\n",
       "\n",
       "    .dataframe thead th {\n",
       "        text-align: right;\n",
       "    }\n",
       "</style>\n",
       "<table border=\"1\" class=\"dataframe\">\n",
       "  <thead>\n",
       "    <tr style=\"text-align: right;\">\n",
       "      <th></th>\n",
       "      <th>step</th>\n",
       "      <th>type</th>\n",
       "      <th>amount</th>\n",
       "      <th>nameOrig</th>\n",
       "      <th>isFraud</th>\n",
       "      <th>isFlaggedFraud</th>\n",
       "      <th>log_amount</th>\n",
       "      <th>new_net_bal</th>\n",
       "      <th>old_net_bal</th>\n",
       "    </tr>\n",
       "  </thead>\n",
       "  <tbody>\n",
       "    <tr>\n",
       "      <th>0</th>\n",
       "      <td>1</td>\n",
       "      <td>3</td>\n",
       "      <td>9839.64</td>\n",
       "      <td>757869</td>\n",
       "      <td>0</td>\n",
       "      <td>0</td>\n",
       "      <td>9.194276</td>\n",
       "      <td>-160296.36</td>\n",
       "      <td>-170136.00</td>\n",
       "    </tr>\n",
       "    <tr>\n",
       "      <th>1</th>\n",
       "      <td>1</td>\n",
       "      <td>3</td>\n",
       "      <td>1864.28</td>\n",
       "      <td>2188998</td>\n",
       "      <td>0</td>\n",
       "      <td>0</td>\n",
       "      <td>7.531166</td>\n",
       "      <td>-19384.72</td>\n",
       "      <td>-21249.00</td>\n",
       "    </tr>\n",
       "    <tr>\n",
       "      <th>2</th>\n",
       "      <td>1</td>\n",
       "      <td>4</td>\n",
       "      <td>181.00</td>\n",
       "      <td>1002156</td>\n",
       "      <td>1</td>\n",
       "      <td>0</td>\n",
       "      <td>5.204007</td>\n",
       "      <td>0.00</td>\n",
       "      <td>-181.00</td>\n",
       "    </tr>\n",
       "    <tr>\n",
       "      <th>3</th>\n",
       "      <td>1</td>\n",
       "      <td>1</td>\n",
       "      <td>181.00</td>\n",
       "      <td>5828262</td>\n",
       "      <td>1</td>\n",
       "      <td>0</td>\n",
       "      <td>5.204007</td>\n",
       "      <td>0.00</td>\n",
       "      <td>21001.00</td>\n",
       "    </tr>\n",
       "    <tr>\n",
       "      <th>4</th>\n",
       "      <td>1</td>\n",
       "      <td>3</td>\n",
       "      <td>11668.14</td>\n",
       "      <td>3445981</td>\n",
       "      <td>0</td>\n",
       "      <td>0</td>\n",
       "      <td>9.364703</td>\n",
       "      <td>-29885.86</td>\n",
       "      <td>-41554.00</td>\n",
       "    </tr>\n",
       "    <tr>\n",
       "      <th>5</th>\n",
       "      <td>1</td>\n",
       "      <td>3</td>\n",
       "      <td>7817.71</td>\n",
       "      <td>6026525</td>\n",
       "      <td>0</td>\n",
       "      <td>0</td>\n",
       "      <td>8.964275</td>\n",
       "      <td>-46042.29</td>\n",
       "      <td>-53860.00</td>\n",
       "    </tr>\n",
       "    <tr>\n",
       "      <th>6</th>\n",
       "      <td>1</td>\n",
       "      <td>3</td>\n",
       "      <td>7107.77</td>\n",
       "      <td>1805947</td>\n",
       "      <td>0</td>\n",
       "      <td>0</td>\n",
       "      <td>8.869085</td>\n",
       "      <td>-176087.23</td>\n",
       "      <td>-183195.00</td>\n",
       "    </tr>\n",
       "    <tr>\n",
       "      <th>7</th>\n",
       "      <td>1</td>\n",
       "      <td>3</td>\n",
       "      <td>7861.64</td>\n",
       "      <td>2999171</td>\n",
       "      <td>0</td>\n",
       "      <td>0</td>\n",
       "      <td>8.969878</td>\n",
       "      <td>-168225.59</td>\n",
       "      <td>-176087.23</td>\n",
       "    </tr>\n",
       "    <tr>\n",
       "      <th>8</th>\n",
       "      <td>1</td>\n",
       "      <td>3</td>\n",
       "      <td>4024.36</td>\n",
       "      <td>869140</td>\n",
       "      <td>0</td>\n",
       "      <td>0</td>\n",
       "      <td>8.300370</td>\n",
       "      <td>0.00</td>\n",
       "      <td>-2671.00</td>\n",
       "    </tr>\n",
       "    <tr>\n",
       "      <th>9</th>\n",
       "      <td>1</td>\n",
       "      <td>2</td>\n",
       "      <td>5337.77</td>\n",
       "      <td>5407276</td>\n",
       "      <td>0</td>\n",
       "      <td>0</td>\n",
       "      <td>8.582751</td>\n",
       "      <td>3966.56</td>\n",
       "      <td>178.00</td>\n",
       "    </tr>\n",
       "  </tbody>\n",
       "</table>\n",
       "</div>"
      ],
      "text/plain": [
       "   step  type    amount  nameOrig  isFraud  isFlaggedFraud  log_amount  \\\n",
       "0     1     3   9839.64    757869        0               0    9.194276   \n",
       "1     1     3   1864.28   2188998        0               0    7.531166   \n",
       "2     1     4    181.00   1002156        1               0    5.204007   \n",
       "3     1     1    181.00   5828262        1               0    5.204007   \n",
       "4     1     3  11668.14   3445981        0               0    9.364703   \n",
       "5     1     3   7817.71   6026525        0               0    8.964275   \n",
       "6     1     3   7107.77   1805947        0               0    8.869085   \n",
       "7     1     3   7861.64   2999171        0               0    8.969878   \n",
       "8     1     3   4024.36    869140        0               0    8.300370   \n",
       "9     1     2   5337.77   5407276        0               0    8.582751   \n",
       "\n",
       "   new_net_bal  old_net_bal  \n",
       "0   -160296.36   -170136.00  \n",
       "1    -19384.72    -21249.00  \n",
       "2         0.00      -181.00  \n",
       "3         0.00     21001.00  \n",
       "4    -29885.86    -41554.00  \n",
       "5    -46042.29    -53860.00  \n",
       "6   -176087.23   -183195.00  \n",
       "7   -168225.59   -176087.23  \n",
       "8         0.00     -2671.00  \n",
       "9      3966.56       178.00  "
      ]
     },
     "execution_count": 44,
     "metadata": {},
     "output_type": "execute_result"
    }
   ],
   "source": [
    "df.head(10)"
   ]
  },
  {
   "cell_type": "markdown",
   "id": "f2e83d01",
   "metadata": {},
   "source": [
    "***Again Checking the Collinearty, MI_score***"
   ]
  },
  {
   "cell_type": "code",
   "execution_count": 46,
   "id": "d332369c",
   "metadata": {},
   "outputs": [
    {
     "data": {
      "text/plain": [
       "Index(['step', 'type', 'amount', 'nameOrig', 'isFraud', 'isFlaggedFraud',\n",
       "       'new_net_bal', 'old_net_bal'],\n",
       "      dtype='object')"
      ]
     },
     "execution_count": 46,
     "metadata": {},
     "output_type": "execute_result"
    }
   ],
   "source": [
    "df.drop(columns='log_amount', inplace=True)\n",
    "df.columns"
   ]
  },
  {
   "cell_type": "code",
   "execution_count": null,
   "id": "3f03d3ee",
   "metadata": {},
   "outputs": [],
   "source": [
    "ss = StandardScaler()\n",
    "scale = []"
   ]
  }
 ],
 "metadata": {
  "kernelspec": {
   "display_name": "Python 3",
   "language": "python",
   "name": "python3"
  },
  "language_info": {
   "codemirror_mode": {
    "name": "ipython",
    "version": 3
   },
   "file_extension": ".py",
   "mimetype": "text/x-python",
   "name": "python",
   "nbconvert_exporter": "python",
   "pygments_lexer": "ipython3",
   "version": "3.12.2"
  }
 },
 "nbformat": 4,
 "nbformat_minor": 5
}
